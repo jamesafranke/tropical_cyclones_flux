{
 "cells": [
  {
   "cell_type": "code",
   "execution_count": 1,
   "metadata": {},
   "outputs": [],
   "source": [
    "using MLDatasets\n",
    "using Zarr\n",
    "using NPZ\n",
    "using Flux\n",
    "using Flux: @functor, chunk, params\n",
    "using Flux.Data: DataLoader\n",
    "using Parameters: @with_kw\n",
    "using BSON\n",
    "using CUDA\n",
    "using Images\n",
    "using Logging: with_logger\n",
    "using ProgressMeter: Progress, next!\n",
    "using TensorBoardLogger: TBLogger, tb_overwrite\n",
    "using Random\n",
    "using Statistics\n",
    "using DifferentialEquations\n",
    "using Plots"
   ]
  },
  {
   "cell_type": "code",
   "execution_count": 97,
   "metadata": {},
   "outputs": [
    {
     "data": {
      "text/plain": [
       "model_loss (generic function with 2 methods)"
      ]
     },
     "metadata": {},
     "output_type": "display_data"
    }
   ],
   "source": [
    "function GaussianFourierProjection(embed_dim, scale)\n",
    "    # Instantiate W once\n",
    "    W = randn(Float32, embed_dim ÷ 2) .* scale\n",
    "    # Return a function that always references the same W\n",
    "    function GaussFourierProject(t)\n",
    "        t_proj = t' .* W * Float32(2π)\n",
    "        [sin.(t_proj); cos.(t_proj)]\n",
    "    end\n",
    "end\n",
    "\n",
    "struct UNet\n",
    "    layers::NamedTuple\n",
    "end\n",
    "\n",
    "marginal_prob_std(t, sigma=25.0f0) = sqrt.((sigma .^ (2t) .- 1.0f0) ./ 2.0f0 ./ log(sigma))\n",
    "\n",
    "#User Facing API for UNet architecture.\n",
    "function UNet(channels=[32, 64, 128, 256], embed_dim=256, scale=30.0f0)\n",
    "    return UNet((\n",
    "        gaussfourierproj=GaussianFourierProjection(embed_dim, scale),\n",
    "        linear=Dense(embed_dim, embed_dim, swish),\n",
    "        # Encoding\n",
    "        conv1=Conv((3, 3), 1 => channels[1], stride=1, bias=false),\n",
    "        dense1=Dense(embed_dim, channels[1]),\n",
    "        gnorm1=GroupNorm(channels[1], 4, swish),\n",
    "        conv2=Conv((3, 3), channels[1] => channels[2], stride=2, bias=false),\n",
    "        dense2=Dense(embed_dim, channels[2]),\n",
    "        gnorm2=GroupNorm(channels[2], 32, swish),\n",
    "        conv3=Conv((3, 3), channels[2] => channels[3], stride=2, bias=false),\n",
    "        dense3=Dense(embed_dim, channels[3]),\n",
    "        gnorm3=GroupNorm(channels[3], 32, swish),\n",
    "        conv4=Conv((3, 3), channels[3] => channels[4], stride=2, bias=false),\n",
    "        dense4=Dense(embed_dim, channels[4]),\n",
    "        gnorm4=GroupNorm(channels[4], 32, swish),\n",
    "        # Decoding\n",
    "        tconv4=ConvTranspose((3, 3), channels[4] => channels[3], stride=2, bias=false),\n",
    "        dense5=Dense(embed_dim, channels[3]),\n",
    "        tgnorm4=GroupNorm(channels[3], 32, swish),\n",
    "        tconv3=ConvTranspose((3, 3), channels[3] + channels[3] => channels[2], pad=(0, -1, 0, -1), stride=2, bias=false),\n",
    "        dense6=Dense(embed_dim, channels[2]),\n",
    "        tgnorm3=GroupNorm(channels[2], 32, swish),\n",
    "        tconv2=ConvTranspose((3, 3), channels[2] + channels[2] => channels[1], pad=(0, -1, 0, -1), stride=2, bias=false),\n",
    "        dense7=Dense(embed_dim, channels[1]),\n",
    "        tgnorm2=GroupNorm(channels[1], 32, swish),\n",
    "        tconv1=ConvTranspose((3, 3), channels[1] + channels[1] => 1, stride=1, bias=false),\n",
    "    ))\n",
    "end\n",
    "\n",
    "@functor UNet\n",
    "\n",
    "# helper to expand dims, similar to tensorflow expand dims\n",
    "expand_dims(x::AbstractVecOrMat, dims::Int=2) = reshape(x, (ntuple(i -> 1, dims)..., size(x)...))\n",
    "\n",
    "#the UNet struct callable and shows an example of a \"Functional\" API for modeling in Flux. \\n\n",
    "function (unet::UNet)(x, t)\n",
    "    # Embedding\n",
    "    embed = unet.layers.gaussfourierproj(t)\n",
    "    embed = unet.layers.linear(embed)\n",
    "    # Encoder\n",
    "    h1 = unet.layers.conv1(x)\n",
    "    h1 = h1 .+ expand_dims(unet.layers.dense1(embed), 2)\n",
    "    h1 = unet.layers.gnorm1(h1)\n",
    "    h2 = unet.layers.conv2(h1)\n",
    "    h2 = h2 .+ expand_dims(unet.layers.dense2(embed), 2)\n",
    "    h2 = unet.layers.gnorm2(h2)\n",
    "    h3 = unet.layers.conv3(h2)\n",
    "    h3 = h3 .+ expand_dims(unet.layers.dense3(embed), 2)\n",
    "    h3 = unet.layers.gnorm3(h3)\n",
    "    h4 = unet.layers.conv4(h3)\n",
    "    h4 = h4 .+ expand_dims(unet.layers.dense4(embed), 2)\n",
    "    h4 = unet.layers.gnorm4(h4)\n",
    "    # Decoder\n",
    "    h = unet.layers.tconv4(h4)\n",
    "    h = h .+ expand_dims(unet.layers.dense5(embed), 2)\n",
    "    h = unet.layers.tgnorm4(h)\n",
    "    h = unet.layers.tconv3(cat(h, h3; dims=3))\n",
    "    h = h .+ expand_dims(unet.layers.dense6(embed), 2)\n",
    "    h = unet.layers.tgnorm3(h)\n",
    "    h = unet.layers.tconv2(cat(h, h2, dims=3))\n",
    "    h = h .+ expand_dims(unet.layers.dense7(embed), 2)\n",
    "    h = unet.layers.tgnorm2(h)\n",
    "    h = unet.layers.tconv1(cat(h, h1, dims=3))\n",
    "    # Scaling Factor\n",
    "    h ./ expand_dims(marginal_prob_std(t), 3)\n",
    "end\n",
    "\n",
    "function model_loss(model, x, ϵ=1.0f-5)\n",
    "    batch_size = size(x)[end]\n",
    "    # (batch) of random times to approximate 𝔼[⋅] wrt. 𝘪 ∼ 𝒰(0, 𝘛)\n",
    "    random_t = rand!(similar(x, batch_size)) .* (1.0f0 - ϵ) .+ ϵ\n",
    "    # (batch) of perturbations to approximate 𝔼[⋅] wrt. 𝘹(0) ∼ 𝒫₀(𝘹)\n",
    "    z = randn!(similar(x))\n",
    "    std = expand_dims(marginal_prob_std(random_t), 3)\n",
    "    # (batch) of perturbed 𝘹(𝘵)'s to approximate 𝔼 wrt. 𝘹(t) ∼ 𝒫₀ₜ(𝘹(𝘵)|𝘹(0))\n",
    "    perturbed_x = x + z .* std\n",
    "    # 𝘚₀(𝘹(𝘵), 𝘵)\n",
    "    score = model(perturbed_x, random_t)\n",
    "    # mean over batches\n",
    "    mean(\n",
    "        # L₂ norm over WHC dimensions\n",
    "        sum((score .* std + z) .^ 2; dims=1:(ndims(x) - 1))\n",
    "    )\n",
    "end"
   ]
  },
  {
   "cell_type": "code",
   "execution_count": 106,
   "metadata": {},
   "outputs": [
    {
     "data": {
      "text/plain": [
       "train (generic function with 1 method)"
      ]
     },
     "metadata": {},
     "output_type": "display_data"
    }
   ],
   "source": [
    "#Helper function from DrWatson.jl to convert a struct to a dict\n",
    "function struct2dict(::Type{DT}, s) where {DT<:AbstractDict}\n",
    "    DT(x => getfield(s, x) for x in fieldnames(typeof(s)))\n",
    "end\n",
    "struct2dict(s) = struct2dict(Dict, s)\n",
    "\n",
    "# arguments for the `train` function \n",
    "@with_kw mutable struct Args\n",
    "    η = 1e-4                                        # learning rate\n",
    "    batch_size = 32                                 # batch size\n",
    "    epochs = 50                                     # number of epochs\n",
    "    seed = 1                                        # random seed\n",
    "    cuda = false                                    # use CPU\n",
    "    verbose_freq = 10                               # logging for every verbose_freq iterations\n",
    "    tblogger = true                                 # log training with tensorboard\n",
    "    save_path = \"output\"                            # results path\n",
    "end\n",
    "\n",
    "function train(; kws...)\n",
    "    # load hyperparamters\n",
    "    args = Args(; kws...)\n",
    "    args.seed > 0 && Random.seed!(args.seed)\n",
    "\n",
    "    # GPU config\n",
    "    if args.cuda && CUDA.has_cuda()\n",
    "        device = gpu\n",
    "        @info \"Training on GPU\"\n",
    "    else\n",
    "        device = cpu\n",
    "        @info \"Training on CPU\"\n",
    "    end\n",
    "\n",
    "    # load MNIST images\n",
    "    xtrain = npzread(\"data/raw/mnist.npy\")\n",
    "    loader = DataLoader((xtrain), batchsize=32, shuffle=true)\n",
    "    # initialize UNet model\n",
    "    unet = UNet() |> device\n",
    "    # ADAM optimizer\n",
    "    opt = ADAM(args.η)\n",
    "    # parameters\n",
    "    ps = Flux.params(unet)\n",
    "    !ispath(args.save_path) && mkpath(args.save_path)\n",
    "\n",
    "    # logging by TensorBoard.jl\n",
    "    if args.tblogger\n",
    "        tblogger = TBLogger(args.save_path, tb_overwrite)\n",
    "    end\n",
    "\n",
    "    # Training\n",
    "    train_steps = 0\n",
    "    @info \"Start Training, total $(args.epochs) epochs\"\n",
    "    for epoch = 1:args.epochs\n",
    "        @info \"Epoch $(epoch)\"\n",
    "        progress = Progress(length(loader))\n",
    "\n",
    "        for x in loader\n",
    "            x = device(x)\n",
    "            loss, grad = Flux.withgradient(ps) do\n",
    "                model_loss(unet, x)\n",
    "            end\n",
    "            Flux.Optimise.update!(opt, ps, grad)\n",
    "            # progress meter\n",
    "            next!(progress; showvalues=[(:loss, loss)])\n",
    "\n",
    "            # logging with TensorBoard\n",
    "            if args.tblogger && train_steps % args.verbose_freq == 0\n",
    "                with_logger(tblogger) do\n",
    "                    @info \"train\" loss = loss\n",
    "                end\n",
    "            end\n",
    "            train_steps += 1\n",
    "        end\n",
    "    end\n",
    "\n",
    "    # save model\n",
    "    model_path = joinpath(args.save_path, \"model.bson\")\n",
    "    let unet = cpu(unet), args = struct2dict(args)\n",
    "        BSON.@save model_path unet args\n",
    "        @info \"Model saved: $(model_path)\"\n",
    "    end\n",
    "end\n",
    "\n",
    "#if abspath(PROGRAM_FILE) == @__FILE__\n",
    "    #train()\n",
    "#end"
   ]
  },
  {
   "cell_type": "code",
   "execution_count": 107,
   "metadata": {},
   "outputs": [
    {
     "name": "stderr",
     "output_type": "stream",
     "text": [
      "┌ Info: Training on CPU\n",
      "└ @ Main /Users/jamesfranke/Documents/julia/tc/diffusion_model.ipynb:30\n",
      "┌ Info: Start Training, total 50 epochs\n",
      "└ @ Main /Users/jamesfranke/Documents/julia/tc/diffusion_model.ipynb:51\n"
     ]
    },
    {
     "name": "stderr",
     "output_type": "stream",
     "text": [
      "┌ Info: Epoch 1\n",
      "└ @ Main /Users/jamesfranke/Documents/julia/tc/diffusion_model.ipynb:53\n"
     ]
    },
    {
     "name": "stderr",
     "output_type": "stream",
     "text": [
      "\r\u001b[32mProgress:   0%|                                         |  ETA: 5:15:11\u001b[39m\u001b[K\r\n",
      "\u001b[34m  loss:  1209.433\u001b[39m\u001b[K\r\u001b[A"
     ]
    },
    {
     "name": "stderr",
     "output_type": "stream",
     "text": [
      "\n",
      "\r\u001b[K\u001b[A\r\u001b[32mProgress:   0%|▏                                        |  ETA: 3:40:37\u001b[39m\u001b[K\r\n",
      "\u001b[34m  loss:  1117.2347\u001b[39m\u001b[K\r\u001b[A"
     ]
    },
    {
     "name": "stderr",
     "output_type": "stream",
     "text": [
      "\n",
      "\r\u001b[K\u001b[A\r\u001b[32mProgress:   0%|▏                                        |  ETA: 2:52:57\u001b[39m\u001b[K\r\n",
      "\u001b[34m  loss:  1148.6041\u001b[39m\u001b[K\r\u001b[A"
     ]
    },
    {
     "name": "stderr",
     "output_type": "stream",
     "text": [
      "\n",
      "\r\u001b[K\u001b[A\r\u001b[32mProgress:   0%|▏                                        |  ETA: 2:21:31\u001b[39m\u001b[K\r\n",
      "\u001b[34m  loss:  1097.9457\u001b[39m\u001b[K\r\u001b[A"
     ]
    },
    {
     "name": "stderr",
     "output_type": "stream",
     "text": [
      "\n",
      "\r\u001b[K\u001b[A\r\u001b[32mProgress:   0%|▏                                        |  ETA: 2:00:36\u001b[39m\u001b[K\r\n",
      "\u001b[34m  loss:  992.6916\u001b[39m\u001b[K\r\u001b[A"
     ]
    },
    {
     "name": "stderr",
     "output_type": "stream",
     "text": [
      "\n",
      "\r\u001b[K\u001b[A\r\u001b[32mProgress:   0%|▏                                        |  ETA: 1:46:27\u001b[39m\u001b[K\r\n",
      "\u001b[34m  loss:  916.779\u001b[39m\u001b[K\r\u001b[A"
     ]
    },
    {
     "name": "stderr",
     "output_type": "stream",
     "text": [
      "\n",
      "\r\u001b[K\u001b[A\r\u001b[32mProgress:   0%|▏                                        |  ETA: 1:37:57\u001b[39m\u001b[K\r\n",
      "\u001b[34m  loss:  970.44196\u001b[39m\u001b[K\r\u001b[A"
     ]
    },
    {
     "name": "stderr",
     "output_type": "stream",
     "text": [
      "\n",
      "\r\u001b[K\u001b[A\r\u001b[32mProgress:   0%|▎                                        |  ETA: 1:28:59\u001b[39m\u001b[K\r\n",
      "\u001b[34m  loss:  904.6869\u001b[39m\u001b[K\r\u001b[A"
     ]
    },
    {
     "name": "stderr",
     "output_type": "stream",
     "text": [
      "\n",
      "\r\u001b[K\u001b[A\r\u001b[32mProgress:   1%|▎                                        |  ETA: 1:23:03\u001b[39m\u001b[K\r\n",
      "\u001b[34m  loss:  913.7043\u001b[39m\u001b[K\r\u001b[A"
     ]
    },
    {
     "name": "stderr",
     "output_type": "stream",
     "text": [
      "\n",
      "\r\u001b[K\u001b[A\r\u001b[32mProgress:   1%|▎                                        |  ETA: 1:16:55\u001b[39m\u001b[K\r\n",
      "\u001b[34m  loss:  829.19977\u001b[39m\u001b[K\r\u001b[A"
     ]
    },
    {
     "name": "stderr",
     "output_type": "stream",
     "text": [
      "\n",
      "\r\u001b[K\u001b[A\r\u001b[32mProgress:   1%|▎                                        |  ETA: 1:11:57\u001b[39m\u001b[K\r\n",
      "\u001b[34m  loss:  813.6649\u001b[39m\u001b[K\r\u001b[A"
     ]
    },
    {
     "name": "stderr",
     "output_type": "stream",
     "text": [
      "\n",
      "\r\u001b[K\u001b[A\r\u001b[32mProgress:   1%|▎                                        |  ETA: 1:07:30\u001b[39m\u001b[K\r\n",
      "\u001b[34m  loss:  782.1341\u001b[39m\u001b[K\r\u001b[A"
     ]
    },
    {
     "name": "stderr",
     "output_type": "stream",
     "text": [
      "\n",
      "\r\u001b[K\u001b[A\r\u001b[32mProgress:   1%|▎                                        |  ETA: 1:04:42\u001b[39m\u001b[K\r\n",
      "\u001b[34m  loss:  771.20404\u001b[39m\u001b[K\r\u001b[A"
     ]
    },
    {
     "name": "stderr",
     "output_type": "stream",
     "text": [
      "\n",
      "\r\u001b[K\u001b[A\r\u001b[32mProgress:   1%|▍                                        |  ETA: 1:01:33\u001b[39m\u001b[K\r\n",
      "\u001b[34m  loss:  740.91675\u001b[39m\u001b[K\r\u001b[A"
     ]
    },
    {
     "name": "stderr",
     "output_type": "stream",
     "text": [
      "\n",
      "\r\u001b[K\u001b[A\r\u001b[32mProgress:   1%|▍                                        |  ETA: 0:58:56\u001b[39m\u001b[K\r\n",
      "\u001b[34m  loss:  738.5127\u001b[39m\u001b[K\r\u001b[A"
     ]
    },
    {
     "name": "stderr",
     "output_type": "stream",
     "text": [
      "\n",
      "\r\u001b[K\u001b[A\r\u001b[32mProgress:   1%|▍                                        |  ETA: 0:56:15\u001b[39m\u001b[K\r\n",
      "\u001b[34m  loss:  722.12787\u001b[39m\u001b[K\r\u001b[A"
     ]
    },
    {
     "name": "stderr",
     "output_type": "stream",
     "text": [
      "\n",
      "\r\u001b[K\u001b[A\r\u001b[32mProgress:   1%|▍                                        |  ETA: 0:53:49\u001b[39m"
     ]
    },
    {
     "name": "stderr",
     "output_type": "stream",
     "text": [
      "\u001b[K\r\n",
      "\u001b[34m  loss:  713.568\u001b[39m\u001b[K\r\u001b[A"
     ]
    },
    {
     "name": "stderr",
     "output_type": "stream",
     "text": [
      "\n",
      "\r\u001b[K\u001b[A\r\u001b[32mProgress:   1%|▍                                        |  ETA: 0:51:47\u001b[39m\u001b[K\r\n",
      "\u001b[34m  loss:  695.28455\u001b[39m\u001b[K\r\u001b[A"
     ]
    },
    {
     "name": "stderr",
     "output_type": "stream",
     "text": [
      "\n",
      "\r\u001b[K\u001b[A\r\u001b[32mProgress:   1%|▍                                        |  ETA: 0:50:14\u001b[39m\u001b[K\r\n",
      "\u001b[34m  loss:  629.6488\u001b[39m\u001b[K\r\u001b[A"
     ]
    },
    {
     "name": "stderr",
     "output_type": "stream",
     "text": [
      "\n",
      "\r\u001b[K\u001b[A\r\u001b[32mProgress:   1%|▌                                        |  ETA: 0:48:36\u001b[39m\u001b[K\r\n",
      "\u001b[34m  loss:  606.98645\u001b[39m\u001b[K\r\u001b[A"
     ]
    },
    {
     "name": "stderr",
     "output_type": "stream",
     "text": [
      "\n",
      "\r\u001b[K\u001b[A\r\u001b[32mProgress:   1%|▌                                        |  ETA: 0:47:02\u001b[39m\u001b[K\r\n",
      "\u001b[34m  loss:  614.9315\u001b[39m\u001b[K\r\u001b[A"
     ]
    },
    {
     "name": "stderr",
     "output_type": "stream",
     "text": [
      "\n",
      "\r\u001b[K\u001b[A\r\u001b[32mProgress:   1%|▌                                        |  ETA: 0:45:39\u001b[39m\u001b[K\r\n",
      "\u001b[34m  loss:  643.95197\u001b[39m\u001b[K\r\u001b[A"
     ]
    },
    {
     "name": "stderr",
     "output_type": "stream",
     "text": [
      "\n",
      "\r\u001b[K\u001b[A\r\u001b[32mProgress:   1%|▌                                        |  ETA: 0:44:19\u001b[39m\u001b[K\r\n",
      "\u001b[34m  loss:  628.9923\u001b[39m\u001b[K\r\u001b[A"
     ]
    },
    {
     "name": "stderr",
     "output_type": "stream",
     "text": [
      "\n",
      "\r\u001b[K\u001b[A\r\u001b[32mProgress:   1%|▌                                        |  ETA: 0:43:02\u001b[39m\u001b[K\r\n",
      "\u001b[34m  loss:  597.2251\u001b[39m\u001b[K\r\u001b[A"
     ]
    },
    {
     "name": "stderr",
     "output_type": "stream",
     "text": [
      "\n",
      "\r\u001b[K\u001b[A\r\u001b[32mProgress:   1%|▋                                        |  ETA: 0:41:54\u001b[39m\u001b[K\r\n",
      "\u001b[34m  loss:  582.2612\u001b[39m\u001b[K\r\u001b[A"
     ]
    },
    {
     "name": "stderr",
     "output_type": "stream",
     "text": [
      "\n",
      "\r\u001b[K\u001b[A\r\u001b[32mProgress:   1%|▋                                        |  ETA: 0:40:54\u001b[39m\u001b[K\r\n",
      "\u001b[34m  loss:  553.5307\u001b[39m\u001b[K\r\u001b[A"
     ]
    },
    {
     "name": "stderr",
     "output_type": "stream",
     "text": [
      "\n",
      "\r\u001b[K\u001b[A\r\u001b[32mProgress:   1%|▋                                        |  ETA: 0:40:10\u001b[39m\u001b[K\r\n",
      "\u001b[34m  loss:  565.2458\u001b[39m\u001b[K\r\u001b[A"
     ]
    },
    {
     "name": "stderr",
     "output_type": "stream",
     "text": [
      "\n",
      "\r\u001b[K\u001b[A\r\u001b[32mProgress:   2%|▋                                        |  ETA: 0:39:13\u001b[39m\u001b[K\r\n",
      "\u001b[34m  loss:  537.68384\u001b[39m\u001b[K\r\u001b[A"
     ]
    },
    {
     "name": "stderr",
     "output_type": "stream",
     "text": [
      "\n",
      "\r\u001b[K\u001b[A\r\u001b[32mProgress:   2%|▋                                        |  ETA: 0:38:18\u001b[39m\u001b[K\r\n",
      "\u001b[34m  loss:  515.405\u001b[39m\u001b[K\r\u001b[A"
     ]
    },
    {
     "name": "stderr",
     "output_type": "stream",
     "text": [
      "\n",
      "\r\u001b[K\u001b[A\r\u001b[32mProgress:   2%|▋                                        |  ETA: 0:37:27\u001b[39m\u001b[K\r\n",
      "\u001b[34m  loss:  526.2335\u001b[39m\u001b[K\r\u001b[A"
     ]
    },
    {
     "name": "stderr",
     "output_type": "stream",
     "text": [
      "\n",
      "\r\u001b[K\u001b[A\r\u001b[32mProgress:   2%|▊                                        |  ETA: 0:36:40\u001b[39m\u001b[K\r\n",
      "\u001b[34m  loss:  523.2399\u001b[39m\u001b[K\r\u001b[A"
     ]
    },
    {
     "name": "stderr",
     "output_type": "stream",
     "text": [
      "\n",
      "\r\u001b[K\u001b[A\r\u001b[32mProgress:   2%|▊                                        |  ETA: 0:36:01\u001b[39m\u001b[K\r\n",
      "\u001b[34m  loss:  493.09097\u001b[39m\u001b[K\r\u001b[A"
     ]
    },
    {
     "name": "stderr",
     "output_type": "stream",
     "text": [
      "\n",
      "\r\u001b[K\u001b[A\r\u001b[32mProgress:   2%|▊                                        |  ETA: 0:35:21\u001b[39m\u001b[K\r\n",
      "\u001b[34m  loss:  494.51514\u001b[39m\u001b[K\r\u001b[A"
     ]
    },
    {
     "name": "stderr",
     "output_type": "stream",
     "text": [
      "\n",
      "\r\u001b[K\u001b[A\r\u001b[32mProgress:   2%|▊                                        |  ETA: 0:34:46\u001b[39m\u001b[K\r\n",
      "\u001b[34m  loss:  516.01086\u001b[39m\u001b[K\r\u001b[A"
     ]
    },
    {
     "name": "stderr",
     "output_type": "stream",
     "text": [
      "\n",
      "\r\u001b[K\u001b[A\r\u001b[32mProgress:   2%|▊                                        |  ETA: 0:34:09\u001b[39m\u001b[K\r\n",
      "\u001b[34m  loss:  474.1456\u001b[39m\u001b[K\r\u001b[A"
     ]
    },
    {
     "name": "stderr",
     "output_type": "stream",
     "text": [
      "\n",
      "\r\u001b[K\u001b[A\r\u001b[32mProgress:   2%|▊                                        |  ETA: 0:33:38\u001b[39m\u001b[K\r\n",
      "\u001b[34m  loss:  477.0858\u001b[39m\u001b[K\r\u001b[A"
     ]
    },
    {
     "name": "stderr",
     "output_type": "stream",
     "text": [
      "\n",
      "\r\u001b[K\u001b[A\r\u001b[32mProgress:   2%|▉                                        |  ETA: 0:33:06\u001b[39m\u001b[K\r\n",
      "\u001b[34m  loss:  512.4031\u001b[39m\u001b[K\r\u001b[A"
     ]
    },
    {
     "name": "stderr",
     "output_type": "stream",
     "text": [
      "\n",
      "\r\u001b[K\u001b[A\r\u001b[32mProgress:   2%|▉                                        |  ETA: 0:32:36\u001b[39m"
     ]
    },
    {
     "name": "stderr",
     "output_type": "stream",
     "text": [
      "\u001b[K\r\n",
      "\u001b[34m  loss:  485.2993\u001b[39m\u001b[K\r\u001b[A"
     ]
    },
    {
     "name": "stderr",
     "output_type": "stream",
     "text": [
      "\n",
      "\r\u001b[K\u001b[A\r\u001b[32mProgress:   2%|▉                                        |  ETA: 0:32:08\u001b[39m\u001b[K\r\n",
      "\u001b[34m  loss:  451.96362\u001b[39m\u001b[K\r\u001b[A"
     ]
    },
    {
     "name": "stderr",
     "output_type": "stream",
     "text": [
      "\n",
      "\r\u001b[K\u001b[A\r\u001b[32mProgress:   2%|▉                                        |  ETA: 0:31:38\u001b[39m\u001b[K\r\n",
      "\u001b[34m  loss:  466.40662\u001b[39m\u001b[K\r\u001b[A"
     ]
    },
    {
     "name": "stderr",
     "output_type": "stream",
     "text": [
      "\n",
      "\r\u001b[K\u001b[A\r\u001b[32mProgress:   2%|▉                                        |  ETA: 0:31:13\u001b[39m\u001b[K\r\n",
      "\u001b[34m  loss:  470.36688\u001b[39m\u001b[K\r\u001b[A"
     ]
    },
    {
     "name": "stderr",
     "output_type": "stream",
     "text": [
      "\n",
      "\r\u001b[K\u001b[A\r\u001b[32mProgress:   2%|█                                        |  ETA: 0:30:45\u001b[39m\u001b[K\r\n",
      "\u001b[34m  loss:  391.21432\u001b[39m\u001b[K\r\u001b[A"
     ]
    },
    {
     "name": "stderr",
     "output_type": "stream",
     "text": [
      "\n",
      "\r\u001b[K\u001b[A\r\u001b[32mProgress:   2%|█                                        |  ETA: 0:30:20\u001b[39m\u001b[K\r\n",
      "\u001b[34m  loss:  458.78183\u001b[39m\u001b[K\r\u001b[A"
     ]
    },
    {
     "name": "stderr",
     "output_type": "stream",
     "text": [
      "\n",
      "\r\u001b[K\u001b[A\r\u001b[32mProgress:   2%|█                                        |  ETA: 0:30:11\u001b[39m\u001b[K\r\n",
      "\u001b[34m  loss:  401.74557\u001b[39m\u001b[K\r\u001b[A"
     ]
    },
    {
     "name": "stderr",
     "output_type": "stream",
     "text": [
      "\n",
      "\r\u001b[K\u001b[A\r\u001b[32mProgress:   2%|█                                        |  ETA: 0:29:49\u001b[39m\u001b[K\r\n",
      "\u001b[34m  loss:  413.5223\u001b[39m\u001b[K\r\u001b[A"
     ]
    },
    {
     "name": "stderr",
     "output_type": "stream",
     "text": [
      "\n",
      "\r\u001b[K\u001b[A\r\u001b[32mProgress:   3%|█                                        |  ETA: 0:29:32\u001b[39m\u001b[K\r\n",
      "\u001b[34m  loss:  421.00958\u001b[39m\u001b[K\r\u001b[A"
     ]
    },
    {
     "name": "stderr",
     "output_type": "stream",
     "text": [
      "\n",
      "\r\u001b[K\u001b[A\r\u001b[32mProgress:   3%|█                                        |  ETA: 0:29:15\u001b[39m\u001b[K\r\n",
      "\u001b[34m  loss:  440.43854\u001b[39m\u001b[K\r\u001b[A"
     ]
    },
    {
     "name": "stderr",
     "output_type": "stream",
     "text": [
      "\n",
      "\r\u001b[K\u001b[A\r\u001b[32mProgress:   3%|█▏                                       |  ETA: 0:28:53\u001b[39m\u001b[K\r\n",
      "\u001b[34m  loss:  398.06705\u001b[39m\u001b[K\r\u001b[A"
     ]
    },
    {
     "name": "stderr",
     "output_type": "stream",
     "text": [
      "\n",
      "\r\u001b[K\u001b[A\r\u001b[32mProgress:   3%|█▏                                       |  ETA: 0:28:39\u001b[39m\u001b[K\r\n",
      "\u001b[34m  loss:  408.57312\u001b[39m\u001b[K\r\u001b[A"
     ]
    },
    {
     "name": "stderr",
     "output_type": "stream",
     "text": [
      "\n",
      "\r\u001b[K\u001b[A\r\u001b[32mProgress:   3%|█▏                                       |  ETA: 0:28:20\u001b[39m\u001b[K\r\n",
      "\u001b[34m  loss:  394.7592\u001b[39m\u001b[K\r\u001b[A"
     ]
    },
    {
     "name": "stderr",
     "output_type": "stream",
     "text": [
      "\n",
      "\r\u001b[K\u001b[A\r\u001b[32mProgress:   3%|█▏                                       |  ETA: 0:28:02\u001b[39m\u001b[K\r\n",
      "\u001b[34m  loss:  366.50354\u001b[39m\u001b[K\r\u001b[A"
     ]
    },
    {
     "name": "stderr",
     "output_type": "stream",
     "text": [
      "\n",
      "\r\u001b[K\u001b[A\r\u001b[32mProgress:   3%|█▏                                       |  ETA: 0:27:44\u001b[39m\u001b[K\r\n",
      "\u001b[34m  loss:  385.62244\u001b[39m\u001b[K\r\u001b[A"
     ]
    },
    {
     "name": "stderr",
     "output_type": "stream",
     "text": [
      "\n",
      "\r\u001b[K\u001b[A\r\u001b[32mProgress:   3%|█▏                                       |  ETA: 0:27:29\u001b[39m\u001b[K\r\n",
      "\u001b[34m  loss:  422.5066\u001b[39m\u001b[K\r\u001b[A"
     ]
    },
    {
     "name": "stderr",
     "output_type": "stream",
     "text": [
      "\n",
      "\r\u001b[K\u001b[A\r\u001b[32mProgress:   3%|█▎                                       |  ETA: 0:27:14\u001b[39m\u001b[K\r\n",
      "\u001b[34m  loss:  377.45737\u001b[39m\u001b[K\r\u001b[A"
     ]
    },
    {
     "name": "stderr",
     "output_type": "stream",
     "text": [
      "\n",
      "\r\u001b[K\u001b[A\r\u001b[32mProgress:   3%|█▎                                       |  ETA: 0:26:57\u001b[39m\u001b[K\r\n",
      "\u001b[34m  loss:  361.8951\u001b[39m\u001b[K\r\u001b[A"
     ]
    },
    {
     "name": "stderr",
     "output_type": "stream",
     "text": [
      "\n",
      "\r\u001b[K\u001b[A\r\u001b[32mProgress:   3%|█▎                                       |  ETA: 0:26:44\u001b[39m\u001b[K\r\n",
      "\u001b[34m  loss:  382.53058\u001b[39m\u001b[K\r\u001b[A"
     ]
    },
    {
     "name": "stderr",
     "output_type": "stream",
     "text": [
      "\n",
      "\r\u001b[K\u001b[A\r\u001b[32mProgress:   3%|█▎                                       |  ETA: 0:26:29\u001b[39m\u001b[K\r\n",
      "\u001b[34m  loss:  402.56528\u001b[39m\u001b[K\r\u001b[A"
     ]
    },
    {
     "name": "stderr",
     "output_type": "stream",
     "text": [
      "\n",
      "\r\u001b[K\u001b[A\r\u001b[32mProgress:   3%|█▎                                       |  ETA: 0:26:16\u001b[39m\u001b[K\r\n",
      "\u001b[34m  loss:  393.73923\u001b[39m\u001b[K\r\u001b[A"
     ]
    },
    {
     "name": "stderr",
     "output_type": "stream",
     "text": [
      "\n",
      "\r\u001b[K\u001b[A\r\u001b[32mProgress:   3%|█▎                                       |  ETA: 0:26:11\u001b[39m\u001b[K\r\n",
      "\u001b[34m  loss:  351.73862\u001b[39m\u001b[K\r\u001b[A"
     ]
    },
    {
     "name": "stderr",
     "output_type": "stream",
     "text": [
      "\n",
      "\r\u001b[K\u001b[A\r\u001b[32mProgress:   3%|█▍                                       |  ETA: 0:25:57\u001b[39m\u001b[K\r\n",
      "\u001b[34m  loss:  332.40994\u001b[39m\u001b[K\r\u001b[A"
     ]
    },
    {
     "name": "stderr",
     "output_type": "stream",
     "text": [
      "\n",
      "\r\u001b[K\u001b[A\r\u001b[32mProgress:   3%|█▍                                       |  ETA: 0:25:45\u001b[39m\u001b[K\r\n",
      "\u001b[34m  loss:  324.59314\u001b[39m\u001b[K\r\u001b[A"
     ]
    },
    {
     "name": "stderr",
     "output_type": "stream",
     "text": [
      "\n",
      "\r\u001b[K\u001b[A\r\u001b[32mProgress:   3%|█▍                                       |  ETA: 0:25:34\u001b[39m\u001b[K\r\n",
      "\u001b[34m  loss:  344.2359\u001b[39m\u001b[K\r\u001b[A"
     ]
    },
    {
     "name": "stderr",
     "output_type": "stream",
     "text": [
      "\n",
      "\r\u001b[K\u001b[A\r\u001b[32mProgress:   3%|█▍                                       |  ETA: 0:25:22\u001b[39m\u001b[K\r\n",
      "\u001b[34m  loss:  375.58124\u001b[39m\u001b[K\r\u001b[A"
     ]
    },
    {
     "name": "stderr",
     "output_type": "stream",
     "text": [
      "\n",
      "\r\u001b[K\u001b[A\r\u001b[32mProgress:   3%|█▍                                       |  ETA: 0:25:12\u001b[39m\u001b[K\r\n",
      "\u001b[34m  loss:  346.89783\u001b[39m\u001b[K\r\u001b[A"
     ]
    },
    {
     "name": "stderr",
     "output_type": "stream",
     "text": [
      "\n",
      "\r\u001b[K\u001b[A\r\u001b[32mProgress:   4%|█▌                                       |  ETA: 0:25:01\u001b[39m\u001b[K\r\n",
      "\u001b[34m  loss:  341.33072\u001b[39m\u001b[K\r\u001b[A"
     ]
    },
    {
     "name": "stderr",
     "output_type": "stream",
     "text": [
      "\n",
      "\r\u001b[K\u001b[A\r\u001b[32mProgress:   4%|█▌                                       |  ETA: 0:24:51\u001b[39m\u001b[K\r\n",
      "\u001b[34m  loss:  303.13605\u001b[39m\u001b[K\r\u001b[A"
     ]
    },
    {
     "name": "stderr",
     "output_type": "stream",
     "text": [
      "\n",
      "\r\u001b[K\u001b[A\r\u001b[32mProgress:   4%|█▌                                       |  ETA: 0:24:40\u001b[39m\u001b[K\r\n",
      "\u001b[34m  loss:  326.2411\u001b[39m\u001b[K\r\u001b[A"
     ]
    },
    {
     "name": "stderr",
     "output_type": "stream",
     "text": [
      "\n",
      "\r\u001b[K\u001b[A\r\u001b[32mProgress:   4%|█▌                                       |  ETA: 0:24:30\u001b[39m\u001b[K\r\n",
      "\u001b[34m  loss:  327.3444\u001b[39m\u001b[K\r\u001b[A"
     ]
    },
    {
     "name": "stderr",
     "output_type": "stream",
     "text": [
      "\n",
      "\r\u001b[K\u001b[A\r\u001b[32mProgress:   4%|█▌                                       |  ETA: 0:24:20\u001b[39m\u001b[K\r\n",
      "\u001b[34m  loss:  349.51764\u001b[39m\u001b[K\r\u001b[A"
     ]
    },
    {
     "name": "stderr",
     "output_type": "stream",
     "text": [
      "\n",
      "\r\u001b[K\u001b[A\r\u001b[32mProgress:   4%|█▌                                       |  ETA: 0:24:12\u001b[39m\u001b[K\r\n",
      "\u001b[34m  loss:  388.54144\u001b[39m\u001b[K\r\u001b[A"
     ]
    },
    {
     "name": "stderr",
     "output_type": "stream",
     "text": [
      "\n",
      "\r\u001b[K\u001b[A\r\u001b[32mProgress:   4%|█▋                                       |  ETA: 0:24:04\u001b[39m\u001b[K\r\n",
      "\u001b[34m  loss:  360.48868\u001b[39m\u001b[K\r\u001b[A"
     ]
    },
    {
     "name": "stderr",
     "output_type": "stream",
     "text": [
      "\n",
      "\r\u001b[K\u001b[A\r\u001b[32mProgress:   4%|█▋                                       |  ETA: 0:23:53\u001b[39m\u001b[K\r\n",
      "\u001b[34m  loss:  362.451\u001b[39m\u001b[K\r\u001b[A"
     ]
    },
    {
     "name": "stderr",
     "output_type": "stream",
     "text": [
      "\n",
      "\r\u001b[K\u001b[A\r\u001b[32mProgress:   4%|█▋                                       |  ETA: 0:23:45\u001b[39m\u001b[K\r\n",
      "\u001b[34m  loss:  356.642\u001b[39m\u001b[K\r\u001b[A"
     ]
    },
    {
     "name": "stderr",
     "output_type": "stream",
     "text": [
      "\n",
      "\r\u001b[K\u001b[A\r\u001b[32mProgress:   4%|█▋                                       |  ETA: 0:23:36\u001b[39m\u001b[K\r\n",
      "\u001b[34m  loss:  377.27155\u001b[39m\u001b[K\r\u001b[A"
     ]
    },
    {
     "name": "stderr",
     "output_type": "stream",
     "text": [
      "\n",
      "\r\u001b[K\u001b[A\r\u001b[32mProgress:   4%|█▋                                       |  ETA: 0:23:29\u001b[39m\u001b[K\r\n",
      "\u001b[34m  loss:  360.02155\u001b[39m\u001b[K\r\u001b[A"
     ]
    },
    {
     "name": "stderr",
     "output_type": "stream",
     "text": [
      "\n",
      "\r\u001b[K\u001b[A\r\u001b[32mProgress:   4%|█▋                                       |  ETA: 0:23:22\u001b[39m\u001b[K\r\n",
      "\u001b[34m  loss:  300.83633\u001b[39m\u001b[K\r\u001b[A"
     ]
    },
    {
     "name": "stderr",
     "output_type": "stream",
     "text": [
      "\n",
      "\r\u001b[K\u001b[A\r\u001b[32mProgress:   4%|█▊                                       |  ETA: 0:23:16\u001b[39m\u001b[K\r\n",
      "\u001b[34m  loss:  328.12396\u001b[39m\u001b[K\r\u001b[A"
     ]
    },
    {
     "name": "stderr",
     "output_type": "stream",
     "text": [
      "\n",
      "\r\u001b[K\u001b[A\r\u001b[32mProgress:   4%|█▊                                       |  ETA: 0:23:08\u001b[39m\u001b[K\r\n",
      "\u001b[34m  loss:  323.3532\u001b[39m\u001b[K\r\u001b[A"
     ]
    },
    {
     "name": "stderr",
     "output_type": "stream",
     "text": [
      "\n",
      "\r\u001b[K\u001b[A\r\u001b[32mProgress:   4%|█▊                                       |  ETA: 0:23:01\u001b[39m\u001b[K\r\n",
      "\u001b[34m  loss:  299.4128\u001b[39m\u001b[K\r\u001b[A"
     ]
    },
    {
     "name": "stderr",
     "output_type": "stream",
     "text": [
      "\n",
      "\r\u001b[K\u001b[A\r\u001b[32mProgress:   4%|█▊                                       |  ETA: 0:22:54\u001b[39m\u001b[K\r\n",
      "\u001b[34m  loss:  301.84933\u001b[39m\u001b[K\r\u001b[A"
     ]
    },
    {
     "name": "stderr",
     "output_type": "stream",
     "text": [
      "\n",
      "\r\u001b[K\u001b[A\r\u001b[32mProgress:   4%|█▊                                       |  ETA: 0:22:46\u001b[39m\u001b[K\r\n",
      "\u001b[34m  loss:  361.20593\u001b[39m\u001b[K\r\u001b[A"
     ]
    },
    {
     "name": "stderr",
     "output_type": "stream",
     "text": [
      "\n",
      "\r\u001b[K\u001b[A\r\u001b[32mProgress:   4%|█▉                                       |  ETA: 0:22:40\u001b[39m\u001b[K\r\n",
      "\u001b[34m  loss:  339.53375\u001b[39m\u001b[K\r\u001b[A"
     ]
    },
    {
     "name": "stderr",
     "output_type": "stream",
     "text": [
      "\n",
      "\r\u001b[K\u001b[A\r\u001b[32mProgress:   4%|█▉                                       |  ETA: 0:22:36\u001b[39m\u001b[K\r\n",
      "\u001b[34m  loss:  312.4355\u001b[39m\u001b[K\r\u001b[A"
     ]
    },
    {
     "name": "stderr",
     "output_type": "stream",
     "text": [
      "\n",
      "\r\u001b[K\u001b[A\r\u001b[32mProgress:   5%|█▉                                       |  ETA: 0:22:28\u001b[39m\u001b[K\r\n",
      "\u001b[34m  loss:  335.00406\u001b[39m\u001b[K\r\u001b[A"
     ]
    },
    {
     "name": "stderr",
     "output_type": "stream",
     "text": [
      "\n",
      "\r\u001b[K\u001b[A\r\u001b[32mProgress:   5%|█▉                                       |  ETA: 0:22:20\u001b[39m\u001b[K\r\n",
      "\u001b[34m  loss:  347.59186\u001b[39m\u001b[K\r\u001b[A"
     ]
    },
    {
     "name": "stderr",
     "output_type": "stream",
     "text": [
      "\n",
      "\r\u001b[K\u001b[A\r\u001b[32mProgress:   5%|█▉                                       |  ETA: 0:22:13\u001b[39m\u001b[K\r\n",
      "\u001b[34m  loss:  306.30594\u001b[39m\u001b[K\r\u001b[A"
     ]
    },
    {
     "name": "stderr",
     "output_type": "stream",
     "text": [
      "\n",
      "\r\u001b[K\u001b[A\r\u001b[32mProgress:   5%|█▉                                       |  ETA: 0:22:07\u001b[39m\u001b[K\r\n",
      "\u001b[34m  loss:  325.16077\u001b[39m\u001b[K\r\u001b[A"
     ]
    },
    {
     "name": "stderr",
     "output_type": "stream",
     "text": [
      "\n",
      "\r\u001b[K\u001b[A\r\u001b[32mProgress:   5%|██                                       |  ETA: 0:22:01\u001b[39m\u001b[K\r\n",
      "\u001b[34m  loss:  302.80145\u001b[39m\u001b[K\r\u001b[A"
     ]
    },
    {
     "name": "stderr",
     "output_type": "stream",
     "text": [
      "\n",
      "\r\u001b[K\u001b[A\r\u001b[32mProgress:   5%|██                                       |  ETA: 0:21:55\u001b[39m\u001b[K\r\n",
      "\u001b[34m  loss:  315.90134\u001b[39m\u001b[K\r\u001b[A"
     ]
    },
    {
     "name": "stderr",
     "output_type": "stream",
     "text": [
      "\n",
      "\r\u001b[K\u001b[A\r\u001b[32mProgress:   5%|██                                       |  ETA: 0:21:50\u001b[39m\u001b[K\r\n",
      "\u001b[34m  loss:  297.84998\u001b[39m\u001b[K\r\u001b[A"
     ]
    },
    {
     "name": "stderr",
     "output_type": "stream",
     "text": [
      "\n",
      "\r\u001b[K\u001b[A\r\u001b[32mProgress:   5%|██                                       |  ETA: 0:21:47\u001b[39m\u001b[K\r\n",
      "\u001b[34m  loss:  297.3059\u001b[39m\u001b[K\r\u001b[A"
     ]
    },
    {
     "name": "stderr",
     "output_type": "stream",
     "text": [
      "\n",
      "\r\u001b[K\u001b[A\r\u001b[32mProgress:   5%|██                                       |  ETA: 0:21:41\u001b[39m\u001b[K\r\n",
      "\u001b[34m  loss:  329.12704\u001b[39m\u001b[K\r\u001b[A"
     ]
    },
    {
     "name": "stderr",
     "output_type": "stream",
     "text": [
      "\n",
      "\r\u001b[K\u001b[A\r\u001b[32mProgress:   5%|██                                       |  ETA: 0:21:35\u001b[39m\u001b[K\r\n",
      "\u001b[34m  loss:  287.7255\u001b[39m\u001b[K\r\u001b[A"
     ]
    },
    {
     "name": "stderr",
     "output_type": "stream",
     "text": [
      "\n",
      "\r\u001b[K\u001b[A\r\u001b[32mProgress:   5%|██▏                                      |  ETA: 0:21:29\u001b[39m\u001b[K\r\n",
      "\u001b[34m  loss:  284.52542\u001b[39m\u001b[K\r\u001b[A"
     ]
    },
    {
     "name": "stderr",
     "output_type": "stream",
     "text": [
      "\n",
      "\r\u001b[K\u001b[A\r\u001b[32mProgress:   5%|██▏                                      |  ETA: 0:21:25\u001b[39m\u001b[K\r\n",
      "\u001b[34m  loss:  280.16806\u001b[39m\u001b[K\r\u001b[A"
     ]
    },
    {
     "name": "stderr",
     "output_type": "stream",
     "text": [
      "\n",
      "\r\u001b[K\u001b[A\r\u001b[32mProgress:   5%|██▏                                      |  ETA: 0:21:20\u001b[39m\u001b[K\r\n",
      "\u001b[34m  loss:  306.90875\u001b[39m\u001b[K\r\u001b[A"
     ]
    },
    {
     "name": "stderr",
     "output_type": "stream",
     "text": [
      "\n",
      "\r\u001b[K\u001b[A\r\u001b[32mProgress:   5%|██▏                                      |  ETA: 0:21:14\u001b[39m\u001b[K\r\n",
      "\u001b[34m  loss:  285.20233\u001b[39m\u001b[K\r\u001b[A"
     ]
    },
    {
     "name": "stderr",
     "output_type": "stream",
     "text": [
      "\n",
      "\r\u001b[K\u001b[A\r\u001b[32mProgress:   5%|██▏                                      |  ETA: 0:21:09\u001b[39m\u001b[K\r\n",
      "\u001b[34m  loss:  323.9697\u001b[39m\u001b[K\r\u001b[A"
     ]
    },
    {
     "name": "stderr",
     "output_type": "stream",
     "text": [
      "\n",
      "\r\u001b[K\u001b[A\r\u001b[32mProgress:   5%|██▏                                      |  ETA: 0:21:03\u001b[39m\u001b[K\r\n",
      "\u001b[34m  loss:  315.60718\u001b[39m\u001b[K\r\u001b[A"
     ]
    },
    {
     "name": "stderr",
     "output_type": "stream",
     "text": [
      "\n",
      "\r\u001b[K\u001b[A\r\u001b[32mProgress:   5%|██▎                                      |  ETA: 0:20:58\u001b[39m\u001b[K\r\n",
      "\u001b[34m  loss:  299.42065\u001b[39m\u001b[K\r\u001b[A"
     ]
    },
    {
     "name": "stderr",
     "output_type": "stream",
     "text": [
      "\n",
      "\r\u001b[K\u001b[A\r\u001b[32mProgress:   5%|██▎                                      |  ETA: 0:20:54\u001b[39m\u001b[K\r\n",
      "\u001b[34m  loss:  274.30035\u001b[39m\u001b[K\r\u001b[A"
     ]
    },
    {
     "name": "stderr",
     "output_type": "stream",
     "text": [
      "\n",
      "\r\u001b[K\u001b[A\r\u001b[32mProgress:   5%|██▎                                      |  ETA: 0:20:49\u001b[39m\u001b[K\r\n",
      "\u001b[34m  loss:  327.78046\u001b[39m\u001b[K\r\u001b[A"
     ]
    },
    {
     "name": "stderr",
     "output_type": "stream",
     "text": [
      "\n",
      "\r\u001b[K\u001b[A\r\u001b[32mProgress:   6%|██▎                                      |  ETA: 0:20:45\u001b[39m\u001b[K\r\n",
      "\u001b[34m  loss:  328.1895\u001b[39m\u001b[K\r\u001b[A"
     ]
    },
    {
     "name": "stderr",
     "output_type": "stream",
     "text": [
      "\n",
      "\r\u001b[K\u001b[A\r\u001b[32mProgress:   6%|██▎                                      |  ETA: 0:20:39\u001b[39m\u001b[K\r\n",
      "\u001b[34m  loss:  247.76385\u001b[39m\u001b[K\r\u001b[A"
     ]
    },
    {
     "name": "stderr",
     "output_type": "stream",
     "text": [
      "\n",
      "\r\u001b[K\u001b[A\r\u001b[32mProgress:   6%|██▍                                      |  ETA: 0:20:35\u001b[39m\u001b[K\r\n",
      "\u001b[34m  loss:  242.64917\u001b[39m\u001b[K\r\u001b[A"
     ]
    },
    {
     "name": "stderr",
     "output_type": "stream",
     "text": [
      "\n",
      "\r\u001b[K\u001b[A\r\u001b[32mProgress:   6%|██▍                                      |  ETA: 0:20:31\u001b[39m\u001b[K\r\n",
      "\u001b[34m  loss:  299.13492\u001b[39m\u001b[K\r\u001b[A"
     ]
    },
    {
     "name": "stderr",
     "output_type": "stream",
     "text": [
      "\n",
      "\r\u001b[K\u001b[A\r\u001b[32mProgress:   6%|██▍                                      |  ETA: 0:20:27\u001b[39m\u001b[K\r\n",
      "\u001b[34m  loss:  300.62738\u001b[39m\u001b[K\r\u001b[A"
     ]
    },
    {
     "name": "stderr",
     "output_type": "stream",
     "text": [
      "\n",
      "\r\u001b[K\u001b[A\r\u001b[32mProgress:   6%|██▍                                      |  ETA: 0:20:22\u001b[39m\u001b[K\r\n",
      "\u001b[34m  loss:  303.31296\u001b[39m\u001b[K\r\u001b[A"
     ]
    },
    {
     "name": "stderr",
     "output_type": "stream",
     "text": [
      "\n",
      "\r\u001b[K\u001b[A\r\u001b[32mProgress:   6%|██▍                                      |  ETA: 0:20:17\u001b[39m\u001b[K\r\n",
      "\u001b[34m  loss:  252.79395\u001b[39m\u001b[K\r\u001b[A"
     ]
    },
    {
     "name": "stderr",
     "output_type": "stream",
     "text": [
      "\n",
      "\r\u001b[K\u001b[A\r\u001b[32mProgress:   6%|██▍                                      |  ETA: 0:20:13\u001b[39m\u001b[K\r\n",
      "\u001b[34m  loss:  278.21304\u001b[39m\u001b[K\r\u001b[A"
     ]
    },
    {
     "name": "stderr",
     "output_type": "stream",
     "text": [
      "\n",
      "\r\u001b[K\u001b[A\r\u001b[32mProgress:   6%|██▌                                      |  ETA: 0:20:08\u001b[39m\u001b[K\r\n",
      "\u001b[34m  loss:  254.67186\u001b[39m\u001b[K\r\u001b[A"
     ]
    },
    {
     "name": "stderr",
     "output_type": "stream",
     "text": [
      "\n",
      "\r\u001b[K\u001b[A\r\u001b[32mProgress:   6%|██▌                                      |  ETA: 0:20:03\u001b[39m\u001b[K\r\n",
      "\u001b[34m  loss:  307.56793\u001b[39m\u001b[K\r\u001b[A"
     ]
    },
    {
     "name": "stderr",
     "output_type": "stream",
     "text": [
      "\n",
      "\r\u001b[K\u001b[A\r\u001b[32mProgress:   6%|██▌                                      |  ETA: 0:19:58\u001b[39m\u001b[K\r\n",
      "\u001b[34m  loss:  333.43546\u001b[39m\u001b[K\r\u001b[A"
     ]
    },
    {
     "name": "stderr",
     "output_type": "stream",
     "text": [
      "\n",
      "\r\u001b[K\u001b[A\r\u001b[32mProgress:   6%|██▌                                      |  ETA: 0:19:54\u001b[39m\u001b[K\r\n",
      "\u001b[34m  loss:  283.70398\u001b[39m\u001b[K\r\u001b[A"
     ]
    },
    {
     "name": "stderr",
     "output_type": "stream",
     "text": [
      "\n",
      "\r\u001b[K\u001b[A\r\u001b[32mProgress:   6%|██▌                                      |  ETA: 0:19:51\u001b[39m\u001b[K\r\n",
      "\u001b[34m  loss:  266.74796\u001b[39m\u001b[K\r\u001b[A"
     ]
    },
    {
     "name": "stderr",
     "output_type": "stream",
     "text": [
      "\n",
      "\r\u001b[K\u001b[A\r\u001b[32mProgress:   6%|██▌                                      |  ETA: 0:19:47\u001b[39m\u001b[K\r\n",
      "\u001b[34m  loss:  258.26456\u001b[39m\u001b[K\r\u001b[A"
     ]
    },
    {
     "name": "stderr",
     "output_type": "stream",
     "text": [
      "\n",
      "\r\u001b[K\u001b[A\r\u001b[32mProgress:   6%|██▋                                      |  ETA: 0:19:42\u001b[39m\u001b[K\r\n",
      "\u001b[34m  loss:  268.49188\u001b[39m\u001b[K\r\u001b[A"
     ]
    },
    {
     "name": "stderr",
     "output_type": "stream",
     "text": [
      "\n",
      "\r\u001b[K\u001b[A\r\u001b[32mProgress:   6%|██▋                                      |  ETA: 0:19:38\u001b[39m\u001b[K\r\n",
      "\u001b[34m  loss:  260.99823\u001b[39m\u001b[K\r\u001b[A"
     ]
    },
    {
     "name": "stderr",
     "output_type": "stream",
     "text": [
      "\n",
      "\r\u001b[K\u001b[A\r\u001b[32mProgress:   6%|██▋                                      |  ETA: 0:19:49\u001b[39m\u001b[K\r\n",
      "\u001b[34m  loss:  282.38446\u001b[39m\u001b[K\r\u001b[A"
     ]
    },
    {
     "name": "stderr",
     "output_type": "stream",
     "text": [
      "\n",
      "\r\u001b[K\u001b[A\r\u001b[32mProgress:   6%|██▋                                      |  ETA: 0:19:48\u001b[39m\u001b[K\r\n",
      "\u001b[34m  loss:  216.22693\u001b[39m\u001b[K\r\u001b[A"
     ]
    },
    {
     "name": "stderr",
     "output_type": "stream",
     "text": [
      "\n",
      "\r\u001b[K\u001b[A\r\u001b[32mProgress:   7%|██▋                                      |  ETA: 0:19:46\u001b[39m\u001b[K\r\n",
      "\u001b[34m  loss:  255.56464\u001b[39m\u001b[K\r\u001b[A"
     ]
    },
    {
     "name": "stderr",
     "output_type": "stream",
     "text": [
      "\n",
      "\r\u001b[K\u001b[A\r\u001b[32mProgress:   7%|██▊                                      |  ETA: 0:19:45\u001b[39m\u001b[K\r\n",
      "\u001b[34m  loss:  234.04504\u001b[39m\u001b[K\r\u001b[A"
     ]
    },
    {
     "name": "stderr",
     "output_type": "stream",
     "text": [
      "\n",
      "\r\u001b[K\u001b[A\r\u001b[32mProgress:   7%|██▊                                      |  ETA: 0:19:41\u001b[39m\u001b[K\r\n",
      "\u001b[34m  loss:  276.03476\u001b[39m\u001b[K\r\u001b[A"
     ]
    },
    {
     "name": "stderr",
     "output_type": "stream",
     "text": [
      "\n",
      "\r\u001b[K\u001b[A\r\u001b[32mProgress:   7%|██▊                                      |  ETA: 0:19:38\u001b[39m\u001b[K\r\n",
      "\u001b[34m  loss:  275.33072\u001b[39m\u001b[K\r\u001b[A"
     ]
    },
    {
     "name": "stderr",
     "output_type": "stream",
     "text": [
      "\n",
      "\r\u001b[K\u001b[A\r\u001b[32mProgress:   7%|██▊                                      |  ETA: 0:19:36\u001b[39m\u001b[K\r\n",
      "\u001b[34m  loss:  288.09204\u001b[39m\u001b[K\r\u001b[A"
     ]
    },
    {
     "name": "stderr",
     "output_type": "stream",
     "text": [
      "\n",
      "\r\u001b[K\u001b[A\r\u001b[32mProgress:   7%|██▊                                      |  ETA: 0:19:37\u001b[39m\u001b[K\r\n",
      "\u001b[34m  loss:  262.5788\u001b[39m\u001b[K\r\u001b[A"
     ]
    },
    {
     "name": "stderr",
     "output_type": "stream",
     "text": [
      "\n",
      "\r\u001b[K\u001b[A\r\u001b[32mProgress:   7%|██▊                                      |  ETA: 0:19:39\u001b[39m\u001b[K\r\n",
      "\u001b[34m  loss:  252.13496\u001b[39m\u001b[K\r\u001b[A"
     ]
    },
    {
     "name": "stderr",
     "output_type": "stream",
     "text": [
      "\n",
      "\r\u001b[K\u001b[A\r\u001b[32mProgress:   7%|██▉                                      |  ETA: 0:19:38\u001b[39m\u001b[K\r\n",
      "\u001b[34m  loss:  250.42351\u001b[39m\u001b[K\r\u001b[A"
     ]
    },
    {
     "name": "stderr",
     "output_type": "stream",
     "text": [
      "\n",
      "\r\u001b[K\u001b[A\r\u001b[32mProgress:   7%|██▉                                      |  ETA: 0:19:35\u001b[39m\u001b[K\r\n",
      "\u001b[34m  loss:  247.65315\u001b[39m\u001b[K\r\u001b[A"
     ]
    },
    {
     "name": "stderr",
     "output_type": "stream",
     "text": [
      "\n",
      "\r\u001b[K\u001b[A\r\u001b[32mProgress:   7%|██▉                                      |  ETA: 0:19:32\u001b[39m\u001b[K\r\n",
      "\u001b[34m  loss:  292.78827\u001b[39m\u001b[K\r\u001b[A"
     ]
    },
    {
     "name": "stderr",
     "output_type": "stream",
     "text": [
      "\n",
      "\r\u001b[K\u001b[A\r\u001b[32mProgress:   7%|██▉                                      |  ETA: 0:19:28\u001b[39m\u001b[K\r\n",
      "\u001b[34m  loss:  273.6877\u001b[39m\u001b[K\r\u001b[A"
     ]
    },
    {
     "name": "stderr",
     "output_type": "stream",
     "text": [
      "\n",
      "\r\u001b[K\u001b[A\r\u001b[32mProgress:   7%|██▉                                      |  ETA: 0:19:26\u001b[39m\u001b[K\r\n",
      "\u001b[34m  loss:  321.15204\u001b[39m\u001b[K\r\u001b[A"
     ]
    },
    {
     "name": "stderr",
     "output_type": "stream",
     "text": [
      "\n",
      "\r\u001b[K\u001b[A\r\u001b[32mProgress:   7%|██▉                                      |  ETA: 0:19:24\u001b[39m\u001b[K\r\n",
      "\u001b[34m  loss:  284.08942\u001b[39m\u001b[K\r\u001b[A"
     ]
    },
    {
     "name": "stderr",
     "output_type": "stream",
     "text": [
      "\n",
      "\r\u001b[K\u001b[A\r\u001b[32mProgress:   7%|███                                      |  ETA: 0:19:22\u001b[39m\u001b[K\r\n",
      "\u001b[34m  loss:  311.89114\u001b[39m\u001b[K\r\u001b[A"
     ]
    },
    {
     "name": "stderr",
     "output_type": "stream",
     "text": [
      "\n",
      "\r\u001b[K\u001b[A\r\u001b[32mProgress:   7%|███                                      |  ETA: 0:19:19\u001b[39m\u001b[K\r\n",
      "\u001b[34m  loss:  250.8934\u001b[39m\u001b[K\r\u001b[A"
     ]
    },
    {
     "name": "stderr",
     "output_type": "stream",
     "text": [
      "\n",
      "\r\u001b[K\u001b[A\r\u001b[32mProgress:   7%|███                                      |  ETA: 0:19:16\u001b[39m\u001b[K\r\n",
      "\u001b[34m  loss:  250.53795\u001b[39m\u001b[K\r\u001b[A"
     ]
    },
    {
     "name": "stderr",
     "output_type": "stream",
     "text": [
      "\n",
      "\r\u001b[K\u001b[A\r\u001b[32mProgress:   7%|███                                      |  ETA: 0:19:13\u001b[39m\u001b[K\r\n",
      "\u001b[34m  loss:  231.5242\u001b[39m\u001b[K\r\u001b[A"
     ]
    },
    {
     "name": "stderr",
     "output_type": "stream",
     "text": [
      "\n",
      "\r\u001b[K\u001b[A\r\u001b[32mProgress:   7%|███                                      |  ETA: 0:19:10\u001b[39m\u001b[K\r\n",
      "\u001b[34m  loss:  246.42018\u001b[39m\u001b[K\r\u001b[A"
     ]
    },
    {
     "name": "stderr",
     "output_type": "stream",
     "text": [
      "\n",
      "\r\u001b[K\u001b[A\r\u001b[32mProgress:   7%|███                                      |  ETA: 0:19:07\u001b[39m\u001b[K\r\n",
      "\u001b[34m  loss:  273.61157\u001b[39m\u001b[K\r\u001b[A"
     ]
    },
    {
     "name": "stderr",
     "output_type": "stream",
     "text": [
      "\n",
      "\r\u001b[K\u001b[A\r\u001b[32mProgress:   8%|███▏                                     |  ETA: 0:19:03\u001b[39m\u001b[K\r\n",
      "\u001b[34m  loss:  246.75816\u001b[39m\u001b[K\r\u001b[A"
     ]
    },
    {
     "name": "stderr",
     "output_type": "stream",
     "text": [
      "\n",
      "\r\u001b[K\u001b[A\r\u001b[32mProgress:   8%|███▏                                     |  ETA: 0:19:02\u001b[39m\u001b[K\r\n",
      "\u001b[34m  loss:  223.82574\u001b[39m\u001b[K\r\u001b[A"
     ]
    },
    {
     "name": "stderr",
     "output_type": "stream",
     "text": [
      "\n",
      "\r\u001b[K\u001b[A\r\u001b[32mProgress:   8%|███▏                                     |  ETA: 0:18:59\u001b[39m\u001b[K\r\n",
      "\u001b[34m  loss:  223.90025\u001b[39m\u001b[K\r\u001b[A"
     ]
    },
    {
     "name": "stderr",
     "output_type": "stream",
     "text": [
      "\n",
      "\r\u001b[K\u001b[A\r\u001b[32mProgress:   8%|███▏                                     |  ETA: 0:18:56\u001b[39m\u001b[K\r\n",
      "\u001b[34m  loss:  235.66302\u001b[39m\u001b[K\r\u001b[A"
     ]
    },
    {
     "name": "stderr",
     "output_type": "stream",
     "text": [
      "\n",
      "\r\u001b[K\u001b[A\r\u001b[32mProgress:   8%|███▏                                     |  ETA: 0:18:57\u001b[39m\u001b[K\r\n",
      "\u001b[34m  loss:  287.79172\u001b[39m\u001b[K\r\u001b[A"
     ]
    },
    {
     "name": "stderr",
     "output_type": "stream",
     "text": [
      "\n",
      "\r\u001b[K\u001b[A\r\u001b[32mProgress:   8%|███▎                                     |  ETA: 0:18:55\u001b[39m\u001b[K\r\n",
      "\u001b[34m  loss:  280.33954\u001b[39m\u001b[K\r\u001b[A"
     ]
    },
    {
     "name": "stderr",
     "output_type": "stream",
     "text": [
      "\n",
      "\r\u001b[K\u001b[A\r\u001b[32mProgress:   8%|███▎                                     |  ETA: 0:18:52\u001b[39m\u001b[K\r\n",
      "\u001b[34m  loss:  242.81027\u001b[39m\u001b[K\r\u001b[A"
     ]
    },
    {
     "name": "stderr",
     "output_type": "stream",
     "text": [
      "\n",
      "\r\u001b[K\u001b[A\r\u001b[32mProgress:   8%|███▎                                     |  ETA: 0:18:52\u001b[39m\u001b[K\r\n",
      "\u001b[34m  loss:  265.59732\u001b[39m\u001b[K\r\u001b[A"
     ]
    },
    {
     "name": "stderr",
     "output_type": "stream",
     "text": [
      "\n",
      "\r\u001b[K\u001b[A\r\u001b[32mProgress:   8%|███▎                                     |  ETA: 0:18:50\u001b[39m\u001b[K\r\n",
      "\u001b[34m  loss:  232.03589\u001b[39m\u001b[K\r\u001b[A"
     ]
    },
    {
     "name": "stderr",
     "output_type": "stream",
     "text": [
      "\n",
      "\r\u001b[K\u001b[A\r\u001b[32mProgress:   8%|███▎                                     |  ETA: 0:18:48\u001b[39m\u001b[K\r\n",
      "\u001b[34m  loss:  277.63538\u001b[39m\u001b[K\r\u001b[A"
     ]
    },
    {
     "name": "stderr",
     "output_type": "stream",
     "text": [
      "\n",
      "\r\u001b[K\u001b[A\r\u001b[32mProgress:   8%|███▎                                     |  ETA: 0:18:45\u001b[39m\u001b[K\r\n",
      "\u001b[34m  loss:  265.32175\u001b[39m\u001b[K\r\u001b[A"
     ]
    },
    {
     "name": "stderr",
     "output_type": "stream",
     "text": [
      "\n",
      "\r\u001b[K\u001b[A"
     ]
    },
    {
     "name": "stderr",
     "output_type": "stream",
     "text": [
      "\r\u001b[32mProgress:   8%|███▍                                     |  ETA: 0:18:42\u001b[39m\u001b[K\r\n",
      "\u001b[34m  loss:  252.95781\u001b[39m\u001b[K\r\u001b[A"
     ]
    },
    {
     "name": "stderr",
     "output_type": "stream",
     "text": [
      "\n",
      "\r\u001b[K\u001b[A\r\u001b[32mProgress:   8%|███▍                                     |  ETA: 0:18:41\u001b[39m\u001b[K\r\n",
      "\u001b[34m  loss:  289.66394\u001b[39m\u001b[K\r\u001b[A"
     ]
    },
    {
     "name": "stderr",
     "output_type": "stream",
     "text": [
      "\n",
      "\r\u001b[K\u001b[A\r\u001b[32mProgress:   8%|███▍                                     |  ETA: 0:18:38\u001b[39m\u001b[K\r\n",
      "\u001b[34m  loss:  218.35185\u001b[39m\u001b[K\r\u001b[A"
     ]
    },
    {
     "name": "stderr",
     "output_type": "stream",
     "text": [
      "\n",
      "\r\u001b[K\u001b[A\r\u001b[32mProgress:   8%|███▍                                     |  ETA: 0:18:35\u001b[39m\u001b[K\r\n",
      "\u001b[34m  loss:  249.04756\u001b[39m\u001b[K\r\u001b[A"
     ]
    },
    {
     "name": "stderr",
     "output_type": "stream",
     "text": [
      "\n",
      "\r\u001b[K\u001b[A\r\u001b[32mProgress:   8%|███▍                                     |  ETA: 0:18:35\u001b[39m\u001b[K\r\n",
      "\u001b[34m  loss:  272.88315\u001b[39m\u001b[K\r\u001b[A"
     ]
    },
    {
     "name": "stderr",
     "output_type": "stream",
     "text": [
      "\n",
      "\r\u001b[K\u001b[A\r\u001b[32mProgress:   8%|███▍                                     |  ETA: 0:18:33\u001b[39m\u001b[K\r\n",
      "\u001b[34m  loss:  227.27098\u001b[39m\u001b[K\r\u001b[A"
     ]
    },
    {
     "name": "stderr",
     "output_type": "stream",
     "text": [
      "\n",
      "\r\u001b[K\u001b[A\r\u001b[32mProgress:   8%|███▌                                     |  ETA: 0:18:31\u001b[39m\u001b[K\r\n",
      "\u001b[34m  loss:  237.5046\u001b[39m\u001b[K\r\u001b[A"
     ]
    },
    {
     "name": "stderr",
     "output_type": "stream",
     "text": [
      "\n",
      "\r\u001b[K\u001b[A\r\u001b[32mProgress:   8%|███▌                                     |  ETA: 0:18:28\u001b[39m\u001b[K\r\n",
      "\u001b[34m  loss:  225.61313\u001b[39m\u001b[K\r\u001b[A"
     ]
    },
    {
     "name": "stderr",
     "output_type": "stream",
     "text": [
      "\n",
      "\r\u001b[K\u001b[A\r\u001b[32mProgress:   9%|███▌                                     |  ETA: 0:18:26\u001b[39m\u001b[K\r\n",
      "\u001b[34m  loss:  229.37128\u001b[39m\u001b[K\r\u001b[A"
     ]
    },
    {
     "name": "stderr",
     "output_type": "stream",
     "text": [
      "\n",
      "\r\u001b[K\u001b[A\r\u001b[32mProgress:   9%|███▌                                     |  ETA: 0:18:24\u001b[39m\u001b[K\r\n",
      "\u001b[34m  loss:  238.71323\u001b[39m\u001b[K\r\u001b[A"
     ]
    },
    {
     "name": "stderr",
     "output_type": "stream",
     "text": [
      "\n",
      "\r\u001b[K\u001b[A\r\u001b[32mProgress:   9%|███▌                                     |  ETA: 0:18:21\u001b[39m\u001b[K\r\n",
      "\u001b[34m  loss:  265.73016\u001b[39m\u001b[K\r\u001b[A"
     ]
    },
    {
     "name": "stderr",
     "output_type": "stream",
     "text": [
      "\n",
      "\r\u001b[K\u001b[A\r\u001b[32mProgress:   9%|███▋                                     |  ETA: 0:18:19\u001b[39m\u001b[K\r\n",
      "\u001b[34m  loss:  271.69873\u001b[39m\u001b[K\r\u001b[A"
     ]
    },
    {
     "name": "stderr",
     "output_type": "stream",
     "text": [
      "\n",
      "\r\u001b[K\u001b[A\r\u001b[32mProgress:   9%|███▋                                     |  ETA: 0:18:16\u001b[39m\u001b[K\r\n",
      "\u001b[34m  loss:  243.60526\u001b[39m\u001b[K\r\u001b[A"
     ]
    },
    {
     "name": "stderr",
     "output_type": "stream",
     "text": [
      "\n",
      "\r\u001b[K\u001b[A\r\u001b[32mProgress:   9%|███▋                                     |  ETA: 0:18:14\u001b[39m\u001b[K\r\n",
      "\u001b[34m  loss:  233.30832\u001b[39m\u001b[K\r\u001b[A"
     ]
    },
    {
     "name": "stderr",
     "output_type": "stream",
     "text": [
      "\n",
      "\r\u001b[K\u001b[A\r\u001b[32mProgress:   9%|███▋                                     |  ETA: 0:18:12\u001b[39m\u001b[K\r\n",
      "\u001b[34m  loss:  226.7424\u001b[39m\u001b[K\r\u001b[A"
     ]
    },
    {
     "name": "stderr",
     "output_type": "stream",
     "text": [
      "\n",
      "\r\u001b[K\u001b[A\r\u001b[32mProgress:   9%|███▋                                     |  ETA: 0:18:09\u001b[39m\u001b[K\r\n",
      "\u001b[34m  loss:  243.74077\u001b[39m\u001b[K\r\u001b[A"
     ]
    },
    {
     "name": "stderr",
     "output_type": "stream",
     "text": [
      "\n",
      "\r\u001b[K\u001b[A\r\u001b[32mProgress:   9%|███▋                                     |  ETA: 0:18:08\u001b[39m\u001b[K\r\n",
      "\u001b[34m  loss:  310.10803\u001b[39m\u001b[K\r\u001b[A"
     ]
    },
    {
     "name": "stderr",
     "output_type": "stream",
     "text": [
      "\n",
      "\r\u001b[K\u001b[A\r\u001b[32mProgress:   9%|███▊                                     |  ETA: 0:18:06\u001b[39m\u001b[K\r\n",
      "\u001b[34m  loss:  248.57416\u001b[39m\u001b[K\r\u001b[A"
     ]
    },
    {
     "name": "stderr",
     "output_type": "stream",
     "text": [
      "\n",
      "\r\u001b[K\u001b[A\r\u001b[32mProgress:   9%|███▊                                     |  ETA: 0:18:03\u001b[39m\u001b[K\r\n",
      "\u001b[34m  loss:  227.31787\u001b[39m\u001b[K\r\u001b[A"
     ]
    },
    {
     "name": "stderr",
     "output_type": "stream",
     "text": [
      "\n",
      "\r\u001b[K\u001b[A\r\u001b[32mProgress:   9%|███▊                                     |  ETA: 0:18:01\u001b[39m\u001b[K\r\n",
      "\u001b[34m  loss:  255.58424\u001b[39m\u001b[K\r\u001b[A"
     ]
    },
    {
     "name": "stderr",
     "output_type": "stream",
     "text": [
      "\n",
      "\r\u001b[K\u001b[A\r\u001b[32mProgress:   9%|███▊                                     |  ETA: 0:17:59\u001b[39m\u001b[K\r\n",
      "\u001b[34m  loss:  215.04239\u001b[39m\u001b[K\r\u001b[A"
     ]
    },
    {
     "name": "stderr",
     "output_type": "stream",
     "text": [
      "\n",
      "\r\u001b[K\u001b[A\r\u001b[32mProgress:   9%|███▊                                     |  ETA: 0:17:56\u001b[39m\u001b[K\r\n",
      "\u001b[34m  loss:  309.8025\u001b[39m\u001b[K\r\u001b[A"
     ]
    },
    {
     "name": "stderr",
     "output_type": "stream",
     "text": [
      "\n",
      "\r\u001b[K\u001b[A\r\u001b[32mProgress:   9%|███▊                                     |  ETA: 0:17:54\u001b[39m\u001b[K\r\n",
      "\u001b[34m  loss:  217.17563\u001b[39m\u001b[K\r\u001b[A"
     ]
    },
    {
     "name": "stderr",
     "output_type": "stream",
     "text": [
      "\n",
      "\r\u001b[K\u001b[A\r\u001b[32mProgress:   9%|███▉                                     |  ETA: 0:17:52\u001b[39m\u001b[K\r\n",
      "\u001b[34m  loss:  276.30606\u001b[39m\u001b[K\r\u001b[A"
     ]
    },
    {
     "name": "stderr",
     "output_type": "stream",
     "text": [
      "\n",
      "\r\u001b[K\u001b[A\r\u001b[32mProgress:   9%|███▉                                     |  ETA: 0:17:50\u001b[39m\u001b[K\r\n",
      "\u001b[34m  loss:  230.06114\u001b[39m\u001b[K\r\u001b[A"
     ]
    },
    {
     "name": "stderr",
     "output_type": "stream",
     "text": [
      "\n",
      "\r\u001b[K\u001b[A\r\u001b[32mProgress:   9%|███▉                                     |  ETA: 0:17:48\u001b[39m\u001b[K\r\n",
      "\u001b[34m  loss:  228.50629\u001b[39m\u001b[K\r\u001b[A"
     ]
    },
    {
     "name": "stderr",
     "output_type": "stream",
     "text": [
      "\n",
      "\r\u001b[K\u001b[A\r\u001b[32mProgress:   9%|███▉                                     |  ETA: 0:17:46\u001b[39m\u001b[K\r\n",
      "\u001b[34m  loss:  233.68796\u001b[39m\u001b[K\r\u001b[A"
     ]
    },
    {
     "name": "stderr",
     "output_type": "stream",
     "text": [
      "\n",
      "\r\u001b[K\u001b[A\r\u001b[32mProgress:  10%|███▉                                     |  ETA: 0:17:44\u001b[39m\u001b[K\r\n",
      "\u001b[34m  loss:  227.52588\u001b[39m\u001b[K\r\u001b[A"
     ]
    },
    {
     "name": "stderr",
     "output_type": "stream",
     "text": [
      "\n",
      "\r\u001b[K\u001b[A\r\u001b[32mProgress:  10%|███▉                                     |  ETA: 0:17:42\u001b[39m\u001b[K\r\n",
      "\u001b[34m  loss:  242.84108\u001b[39m\u001b[K\r\u001b[A"
     ]
    },
    {
     "name": "stderr",
     "output_type": "stream",
     "text": [
      "\n",
      "\r\u001b[K\u001b[A\r\u001b[32mProgress:  10%|████                                     |  ETA: 0:17:39\u001b[39m\u001b[K\r\n",
      "\u001b[34m  loss:  254.48213\u001b[39m\u001b[K\r\u001b[A"
     ]
    },
    {
     "name": "stderr",
     "output_type": "stream",
     "text": [
      "\n",
      "\r\u001b[K\u001b[A\r\u001b[32mProgress:  10%|████                                     |  ETA: 0:17:37\u001b[39m\u001b[K\r\n",
      "\u001b[34m  loss:  197.70232\u001b[39m\u001b[K\r\u001b[A"
     ]
    },
    {
     "name": "stderr",
     "output_type": "stream",
     "text": [
      "\n",
      "\r\u001b[K\u001b[A\r\u001b[32mProgress:  10%|████                                     |  ETA: 0:17:35\u001b[39m\u001b[K\r\n",
      "\u001b[34m  loss:  243.00919\u001b[39m\u001b[K\r\u001b[A"
     ]
    },
    {
     "name": "stderr",
     "output_type": "stream",
     "text": [
      "\n",
      "\r\u001b[K\u001b[A\r\u001b[32mProgress:  10%|████                                     |  ETA: 0:17:32\u001b[39m\u001b[K\r\n",
      "\u001b[34m  loss:  218.99002\u001b[39m\u001b[K\r\u001b[A"
     ]
    },
    {
     "name": "stderr",
     "output_type": "stream",
     "text": [
      "\n",
      "\r\u001b[K\u001b[A\r\u001b[32mProgress:  10%|████                                     |  ETA: 0:17:30\u001b[39m\u001b[K\r\n",
      "\u001b[34m  loss:  235.80836\u001b[39m\u001b[K\r\u001b[A"
     ]
    },
    {
     "name": "stderr",
     "output_type": "stream",
     "text": [
      "\n",
      "\r\u001b[K\u001b[A"
     ]
    },
    {
     "name": "stderr",
     "output_type": "stream",
     "text": [
      "\r\u001b[32mProgress:  10%|████▏                                    |  ETA: 0:17:27\u001b[39m\u001b[K\r\n",
      "\u001b[34m  loss:  253.97264\u001b[39m\u001b[K\r\u001b[A"
     ]
    },
    {
     "name": "stderr",
     "output_type": "stream",
     "text": [
      "\n",
      "\r\u001b[K\u001b[A\r\u001b[32mProgress:  10%|████▏                                    |  ETA: 0:17:25\u001b[39m\u001b[K\r\n",
      "\u001b[34m  loss:  224.93333\u001b[39m\u001b[K\r\u001b[A"
     ]
    },
    {
     "name": "stderr",
     "output_type": "stream",
     "text": [
      "\n",
      "\r\u001b[K\u001b[A\r\u001b[32mProgress:  10%|████▏                                    |  ETA: 0:17:23\u001b[39m\u001b[K\r\n",
      "\u001b[34m  loss:  237.95456\u001b[39m\u001b[K\r\u001b[A"
     ]
    },
    {
     "name": "stderr",
     "output_type": "stream",
     "text": [
      "\n",
      "\r\u001b[K\u001b[A\r\u001b[32mProgress:  10%|████▏                                    |  ETA: 0:17:22\u001b[39m\u001b[K\r\n",
      "\u001b[34m  loss:  254.91446\u001b[39m\u001b[K\r\u001b[A"
     ]
    },
    {
     "name": "stderr",
     "output_type": "stream",
     "text": [
      "\n",
      "\r\u001b[K\u001b[A\r\u001b[32mProgress:  10%|████▏                                    |  ETA: 0:17:20\u001b[39m\u001b[K\r\n",
      "\u001b[34m  loss:  219.26436\u001b[39m\u001b[K\r\u001b[A"
     ]
    },
    {
     "name": "stderr",
     "output_type": "stream",
     "text": [
      "\n",
      "\r\u001b[K\u001b[A\r\u001b[32mProgress:  10%|████▏                                    |  ETA: 0:17:18\u001b[39m\u001b[K\r\n",
      "\u001b[34m  loss:  231.89688\u001b[39m\u001b[K\r\u001b[A"
     ]
    },
    {
     "name": "stderr",
     "output_type": "stream",
     "text": [
      "\n",
      "\r\u001b[K\u001b[A\r\u001b[32mProgress:  10%|████▎                                    |  ETA: 0:17:19\u001b[39m\u001b[K\r\n",
      "\u001b[34m  loss:  216.63466\u001b[39m\u001b[K\r\u001b[A"
     ]
    },
    {
     "name": "stderr",
     "output_type": "stream",
     "text": [
      "\n",
      "\r\u001b[K\u001b[A\r\u001b[32mProgress:  10%|████▎                                    |  ETA: 0:17:17\u001b[39m\u001b[K\r\n",
      "\u001b[34m  loss:  218.32556\u001b[39m\u001b[K\r\u001b[A"
     ]
    },
    {
     "name": "stderr",
     "output_type": "stream",
     "text": [
      "\n",
      "\r\u001b[K\u001b[A\r\u001b[32mProgress:  10%|████▎                                    |  ETA: 0:17:15\u001b[39m\u001b[K\r\n",
      "\u001b[34m  loss:  219.06195\u001b[39m\u001b[K\r\u001b[A"
     ]
    },
    {
     "name": "stderr",
     "output_type": "stream",
     "text": [
      "\n",
      "\r\u001b[K\u001b[A\r\u001b[32mProgress:  10%|████▎                                    |  ETA: 0:17:14\u001b[39m\u001b[K\r\n",
      "\u001b[34m  loss:  237.36206\u001b[39m\u001b[K\r\u001b[A"
     ]
    },
    {
     "name": "stderr",
     "output_type": "stream",
     "text": [
      "\n",
      "\r\u001b[K\u001b[A\r\u001b[32mProgress:  10%|████▎                                    |  ETA: 0:17:14\u001b[39m\u001b[K\r\n",
      "\u001b[34m  loss:  270.89133\u001b[39m\u001b[K\r\u001b[A"
     ]
    },
    {
     "name": "stderr",
     "output_type": "stream",
     "text": [
      "\n",
      "\r\u001b[K\u001b[A\r\u001b[32mProgress:  11%|████▎                                    |  ETA: 0:17:13\u001b[39m\u001b[K\r\n",
      "\u001b[34m  loss:  197.24146\u001b[39m\u001b[K\r\u001b[A"
     ]
    },
    {
     "name": "stderr",
     "output_type": "stream",
     "text": [
      "\n",
      "\r\u001b[K\u001b[A\r\u001b[32mProgress:  11%|████▍                                    |  ETA: 0:17:12\u001b[39m\u001b[K\r\n",
      "\u001b[34m  loss:  266.391\u001b[39m\u001b[K\r\u001b[A"
     ]
    },
    {
     "name": "stderr",
     "output_type": "stream",
     "text": [
      "\n",
      "\r\u001b[K\u001b[A\r\u001b[32mProgress:  11%|████▍                                    |  ETA: 0:17:10\u001b[39m\u001b[K\r\n",
      "\u001b[34m  loss:  224.48318\u001b[39m\u001b[K\r\u001b[A"
     ]
    },
    {
     "name": "stderr",
     "output_type": "stream",
     "text": [
      "\n",
      "\r\u001b[K\u001b[A\r\u001b[32mProgress:  11%|████▍                                    |  ETA: 0:17:09\u001b[39m\u001b[K\r\n",
      "\u001b[34m  loss:  265.13754\u001b[39m\u001b[K\r\u001b[A"
     ]
    },
    {
     "name": "stderr",
     "output_type": "stream",
     "text": [
      "\n",
      "\r\u001b[K\u001b[A\r\u001b[32mProgress:  11%|████▍                                    |  ETA: 0:17:08\u001b[39m\u001b[K\r\n",
      "\u001b[34m  loss:  229.78603\u001b[39m\u001b[K\r\u001b[A"
     ]
    },
    {
     "name": "stderr",
     "output_type": "stream",
     "text": [
      "\n",
      "\r\u001b[K\u001b[A\r\u001b[32mProgress:  11%|████▍                                    |  ETA: 0:17:06\u001b[39m\u001b[K\r\n",
      "\u001b[34m  loss:  232.21295\u001b[39m\u001b[K\r\u001b[A"
     ]
    },
    {
     "name": "stderr",
     "output_type": "stream",
     "text": [
      "\n",
      "\r\u001b[K\u001b[A\r\u001b[32mProgress:  11%|████▌                                    |  ETA: 0:17:05\u001b[39m\u001b[K\r\n",
      "\u001b[34m  loss:  254.02402\u001b[39m\u001b[K\r\u001b[A"
     ]
    },
    {
     "name": "stderr",
     "output_type": "stream",
     "text": [
      "\n",
      "\r\u001b[K\u001b[A\r\u001b[32mProgress:  11%|████▌                                    |  ETA: 0:17:04\u001b[39m\u001b[K\r\n",
      "\u001b[34m  loss:  199.71013\u001b[39m\u001b[K\r\u001b[A"
     ]
    },
    {
     "name": "stderr",
     "output_type": "stream",
     "text": [
      "\n",
      "\r\u001b[K\u001b[A\r\u001b[32mProgress:  11%|████▌                                    |  ETA: 0:17:03\u001b[39m\u001b[K\r\n",
      "\u001b[34m  loss:  264.74997\u001b[39m\u001b[K\r\u001b[A"
     ]
    },
    {
     "name": "stderr",
     "output_type": "stream",
     "text": [
      "\n",
      "\r\u001b[K\u001b[A\r\u001b[32mProgress:  11%|████▌                                    |  ETA: 0:17:01\u001b[39m\u001b[K\r\n",
      "\u001b[34m  loss:  209.51794\u001b[39m\u001b[K\r\u001b[A"
     ]
    },
    {
     "name": "stderr",
     "output_type": "stream",
     "text": [
      "\n",
      "\r\u001b[K\u001b[A\r\u001b[32mProgress:  11%|████▌                                    |  ETA: 0:16:59\u001b[39m\u001b[K\r\n",
      "\u001b[34m  loss:  230.59361\u001b[39m\u001b[K\r\u001b[A"
     ]
    },
    {
     "name": "stderr",
     "output_type": "stream",
     "text": [
      "\n",
      "\r\u001b[K\u001b[A\r\u001b[32mProgress:  11%|████▌                                    |  ETA: 0:16:58\u001b[39m\u001b[K\r\n",
      "\u001b[34m  loss:  231.85463\u001b[39m\u001b[K\r\u001b[A"
     ]
    },
    {
     "name": "stderr",
     "output_type": "stream",
     "text": [
      "\n",
      "\r\u001b[K\u001b[A\r\u001b[32mProgress:  11%|████▋                                    |  ETA: 0:16:58\u001b[39m\u001b[K\r\n",
      "\u001b[34m  loss:  234.04688\u001b[39m\u001b[K\r\u001b[A"
     ]
    },
    {
     "name": "stderr",
     "output_type": "stream",
     "text": [
      "\n",
      "\r\u001b[K\u001b[A\r\u001b[32mProgress:  11%|████▋                                    |  ETA: 0:16:59\u001b[39m\u001b[K\r\n",
      "\u001b[34m  loss:  211.07843\u001b[39m\u001b[K\r\u001b[A"
     ]
    },
    {
     "name": "stderr",
     "output_type": "stream",
     "text": [
      "\n",
      "\r\u001b[K\u001b[A\r\u001b[32mProgress:  11%|████▋                                    |  ETA: 0:16:57\u001b[39m\u001b[K\r\n",
      "\u001b[34m  loss:  218.7608\u001b[39m\u001b[K\r\u001b[A"
     ]
    },
    {
     "name": "stderr",
     "output_type": "stream",
     "text": [
      "\n",
      "\r\u001b[K\u001b[A\r\u001b[32mProgress:  11%|████▋                                    |  ETA: 0:16:56\u001b[39m\u001b[K\r\n",
      "\u001b[34m  loss:  219.69537\u001b[39m\u001b[K\r\u001b[A"
     ]
    },
    {
     "name": "stderr",
     "output_type": "stream",
     "text": [
      "\n",
      "\r\u001b[K\u001b[A\r\u001b[32mProgress:  11%|████▋                                    |  ETA: 0:16:55\u001b[39m\u001b[K\r\n",
      "\u001b[34m  loss:  196.11159\u001b[39m\u001b[K\r\u001b[A"
     ]
    },
    {
     "name": "stderr",
     "output_type": "stream",
     "text": [
      "\n",
      "\r\u001b[K\u001b[A\r\u001b[32mProgress:  11%|████▋                                    |  ETA: 0:16:53\u001b[39m\u001b[K\r\n",
      "\u001b[34m  loss:  203.58356\u001b[39m\u001b[K\r\u001b[A"
     ]
    },
    {
     "name": "stderr",
     "output_type": "stream",
     "text": [
      "\n",
      "\r\u001b[K\u001b[A\r\u001b[32mProgress:  11%|████▊                                    |  ETA: 0:16:53\u001b[39m\u001b[K\r\n",
      "\u001b[34m  loss:  266.68\u001b[39m\u001b[K\r\u001b[A"
     ]
    },
    {
     "name": "stderr",
     "output_type": "stream",
     "text": [
      "\n",
      "\r\u001b[K\u001b[A\r\u001b[32mProgress:  12%|████▊                                    |  ETA: 0:16:52\u001b[39m\u001b[K\r\n",
      "\u001b[34m  loss:  226.64072\u001b[39m\u001b[K\r\u001b[A"
     ]
    },
    {
     "name": "stderr",
     "output_type": "stream",
     "text": [
      "\n",
      "\r\u001b[K\u001b[A\r\u001b[32mProgress:  12%|████▊                                    |  ETA: 0:16:50\u001b[39m\u001b[K\r\n",
      "\u001b[34m  loss:  213.95406\u001b[39m\u001b[K\r\u001b[A"
     ]
    }
   ],
   "source": [
    "train()"
   ]
  },
  {
   "cell_type": "code",
   "execution_count": 100,
   "metadata": {},
   "outputs": [
    {
     "data": {
      "text/plain": [
       "(28, 28, 1, 60000)"
      ]
     },
     "metadata": {},
     "output_type": "display_data"
    }
   ],
   "source": [
    "xtrain = npzread(\"data/raw/mnist.npy\")\n",
    "size(xtrain)"
   ]
  },
  {
   "cell_type": "code",
   "execution_count": null,
   "metadata": {},
   "outputs": [],
   "source": [
    "#Helper function yielding the diffusion coefficient from a SDE.\n",
    "diffusion_coeff(t, sigma=convert(eltype(t), 25.0f0)) = sigma .^ t\n",
    "\n",
    "#Helper function that produces images from a batch of images.\n",
    "function convert_to_image(x, y_size)\n",
    "    Gray.(permutedims(vcat(reshape.(chunk(x |> cpu, y_size), 28, :)...), (2, 1)))\n",
    "end\n",
    "\n",
    "# Helper to make an animation from a batch of images.\n",
    "function convert_to_animation(x)\n",
    "    frames = size(x)[end]\n",
    "    batches = size(x)[end-1]\n",
    "    animation = @animate for i = 1:frames+frames÷4\n",
    "        if i <= frames\n",
    "            heatmap(\n",
    "                convert_to_image(x[:, :, :, :, i], batches),\n",
    "                title=\"Iteration: $i out of $frames\"\n",
    "            )\n",
    "        else\n",
    "            heatmap(\n",
    "                convert_to_image(x[:, :, :, :, end], batches),\n",
    "                title=\"Iteration: $frames out of $frames\"\n",
    "            )\n",
    "        end\n",
    "    end\n",
    "    return animation\n",
    "end\n",
    "\n",
    "#Helper function that generates inputs to a sampler.\n",
    "function setup_sampler(device, num_images=5, num_steps=500, ϵ=1.0f-3)\n",
    "    t = ones(Float32, num_images) |> device\n",
    "    init_x = (\n",
    "        randn(Float32, (28, 28, 1, num_images)) .*\n",
    "        expand_dims(marginal_prob_std(t), 3)\n",
    "    ) |> device\n",
    "    time_steps = LinRange(1.0f0, ϵ, num_steps)\n",
    "    Δt = time_steps[1] - time_steps[2]\n",
    "    return time_steps, Δt, init_x\n",
    "end\n",
    "\n",
    "function DifferentialEquations_problem(model, init_x, time_steps, Δt)\n",
    "    function f(u, p, t)\n",
    "        batch_time_step = fill!(similar(u, size(u)[end]), 1) .* t\n",
    "        return (\n",
    "            -expand_dims(diffusion_coeff(batch_time_step), 3) .^ 2 .*\n",
    "            model(u, batch_time_step)\n",
    "        )\n",
    "    end\n",
    "\n",
    "    function g(u, p, t)\n",
    "        batch_time_step = fill!(similar(u), 1) .* t\n",
    "        diffusion_coeff(batch_time_step)\n",
    "    end\n",
    "    tspan = (time_steps[begin], time_steps[end])\n",
    "    SDEProblem(f, g, init_x, tspan), ODEProblem(f, init_x, tspan)\n",
    "end\n",
    "\n",
    "function plot_result(unet, args)\n",
    "    args = Args(; args...)\n",
    "    args.seed > 0 && Random.seed!(args.seed)\n",
    "    device = args.cuda && CUDA.has_cuda() ? gpu : cpu\n",
    "    unet = unet |> device\n",
    "    time_steps, Δt, init_x = setup_sampler(device)\n",
    "    \n",
    "    # Setup an SDEProblem and ODEProblem to input to `solve()`.\n",
    "    # Use dt=Δt to make the sample paths comparable to calculating \"by hand\".\n",
    "    sde_problem, ode_problem = DifferentialEquations_problem(unet, init_x, time_steps, Δt)\n",
    "\n",
    "    @info \"Probability Flow ODE Sampling w/ DifferentialEquations.jl\"\n",
    "    diff_eq_ode = solve(ode_problem, dt=Δt, adaptive=false)\n",
    "    diff_eq_ode_end = diff_eq_ode[:, :, :, :, end]\n",
    "    diff_eq_ode_images = convert_to_image(diff_eq_ode_end, size(diff_eq_ode_end)[end])\n",
    "    save(joinpath(args.save_path, \"diff_eq_ode_images.jpeg\"), diff_eq_ode_images)\n",
    "    diff_eq_ode_animation = convert_to_animation(diff_eq_ode)\n",
    "    gif(diff_eq_ode_animation, joinpath(args.save_path, \"diff_eq_ode.gif\"), fps=50)\n",
    "    ode_plot = plot(diff_eq_ode, title=\"Probability Flow ODE\", legend=false, ylabel=\"x\", la=0.25)\n",
    "    plot!(time_steps, diffusion_coeff(time_steps), xflip=true, ls=:dash, lc=:red)\n",
    "    plot!(time_steps, -diffusion_coeff(time_steps), xflip=true, ls=:dash, lc=:red)\n",
    "    savefig(ode_plot, joinpath(args.save_path, \"diff_eq_ode_plot.png\"))\n",
    "end\n",
    "\n",
    "if abspath(PROGRAM_FILE) == @__FILE__\n",
    "    ############################################################################\n",
    "    # Issue loading function closures with BSON:\n",
    "    # https://github.com/JuliaIO/BSON.jl/issues/69\n",
    "    #\n",
    "    BSON.@load \"output/model.bson\" unet args\n",
    "    #\n",
    "    # BSON.@load does not work if defined inside plot_result(⋅) because\n",
    "    # it contains a function closure, GaussFourierProject(⋅), containing W.\n",
    "    ###########################################################################\n",
    "    plot_result(unet, args)\n",
    "end"
   ]
  },
  {
   "cell_type": "markdown",
   "metadata": {},
   "source": [
    "# OLD"
   ]
  },
  {
   "cell_type": "code",
   "execution_count": null,
   "metadata": {},
   "outputs": [],
   "source": [
    "    # Predictor Corrector\n",
    "    pc = predictor_corrector_sampler(unet, init_x, time_steps, Δt)\n",
    "    pc_images = convert_to_image(pc, size(pc)[end])\n",
    "    save(joinpath(args.save_path, \"pc_images.jpeg\"), pc_images)\n",
    "\n",
    "    # Euler-Maruyama\n",
    "    euler_maruyama = Euler_Maruyama_sampler(unet, init_x, time_steps, Δt)\n",
    "    sampled_noise = convert_to_image(init_x, size(init_x)[end])\n",
    "    save(joinpath(args.save_path, \"sampled_noise.jpeg\"), sampled_noise)\n",
    "    em_images = convert_to_image(euler_maruyama, size(euler_maruyama)[end])\n",
    "    save(joinpath(args.save_path, \"em_images.jpeg\"), em_images)\n",
    "\n",
    "    \n",
    "    @info \"Euler-Maruyama Sampling w/ DifferentialEquations.jl\"\n",
    "    diff_eq_em = solve(sde_problem, EM(), dt=Δt)\n",
    "    diff_eq_em_end = diff_eq_em[:, :, :, :, end]\n",
    "    diff_eq_em_images = convert_to_image(diff_eq_em_end, size(diff_eq_em_end)[end])\n",
    "    save(joinpath(args.save_path, \"diff_eq_em_images.jpeg\"), diff_eq_em_images)\n",
    "    diff_eq_em_animation = convert_to_animation(diff_eq_em)\n",
    "    gif(diff_eq_em_animation, joinpath(args.save_path, \"diff_eq_em.gif\"), fps=50)\n",
    "    em_plot = plot(diff_eq_em, title=\"Euler-Maruyama\", legend=false, ylabel=\"x\", la=0.25)\n",
    "    plot!(time_steps, diffusion_coeff(time_steps), xflip=true, ls=:dash, lc=:red)\n",
    "    plot!(time_steps, -diffusion_coeff(time_steps), xflip=true, ls=:dash, lc=:red)\n",
    "    savefig(em_plot, joinpath(args.save_path, \"diff_eq_em_plot.png\"))\n",
    "    \n",
    "\"\"\"\n",
    "Sample from a diffusion model using the Euler-Maruyama method.\n",
    "# References\n",
    "https://yang-song.github.io/blog/2021/score/#how-to-solve-the-reverse-sde\n",
    "\"\"\"\n",
    "function Euler_Maruyama_sampler(model, init_x, time_steps, Δt)\n",
    "    x = mean_x = init_x\n",
    "    @showprogress \"Euler-Maruyama Sampling\" for time_step in time_steps\n",
    "        batch_time_step = fill!(similar(init_x, size(init_x)[end]), 1) .* time_step\n",
    "        g = diffusion_coeff(batch_time_step)\n",
    "        mean_x = x .+ expand_dims(g, 3) .^ 2 .* model(x, batch_time_step) .* Δt\n",
    "        x = mean_x .+ sqrt(Δt) .* expand_dims(g, 3) .* randn(Float32, size(x))\n",
    "    end\n",
    "    return mean_x\n",
    "end\n",
    "\n",
    "\"\"\"\n",
    "Sample from a diffusion model using the Predictor-Corrector method.\n",
    "# References\n",
    "https://yang-song.github.io/blog/2021/score/#how-to-solve-the-reverse-sde\n",
    "\"\"\"\n",
    "function predictor_corrector_sampler(model, init_x, time_steps, Δt, snr=0.16f0)\n",
    "    x = mean_x = init_x\n",
    "    @showprogress \"Predictor Corrector Sampling\" for time_step in time_steps\n",
    "        batch_time_step = fill!(similar(init_x, size(init_x)[end]), 1) .* time_step\n",
    "        # Corrector step (Langevin MCMC)\n",
    "        grad = model(x, batch_time_step)\n",
    "        num_pixels = prod(size(grad)[1:end-1])\n",
    "        grad_batch_vector = reshape(grad, (size(grad)[end], num_pixels))\n",
    "        grad_norm = mean(sqrt, sum(abs2, grad_batch_vector, dims=2))\n",
    "        noise_norm = Float32(sqrt(num_pixels))\n",
    "        langevin_step_size = 2 * (snr * noise_norm / grad_norm)^2\n",
    "        x += (\n",
    "            langevin_step_size .* grad .+\n",
    "            sqrt(2 * langevin_step_size) .* randn(Float32, size(x))\n",
    "        )\n",
    "        # Predictor step (Euler-Maruyama)\n",
    "        g = diffusion_coeff(batch_time_step)\n",
    "        mean_x = x .+ expand_dims((g .^ 2), 3) .* model(x, batch_time_step) .* Δt\n",
    "        x = mean_x + sqrt.(expand_dims((g .^ 2), 3) .* Δt) .* randn(Float32, size(x))\n",
    "    end\n",
    "    return mean_x\n",
    "end\n",
    "\n",
    "\"\"\"\n",
    "Helper to create a SDEProblem with DifferentialEquations.jl\n",
    "# Notes\n",
    "The reverse-time SDE is given by:  \n",
    "𝘥x = -σ²ᵗ 𝘚₀(𝙭, 𝘵)𝘥𝘵 + σᵗ𝘥𝘸  \n",
    "⟹ `f(u, p, t)` = -σ²ᵗ 𝘚₀(𝙭, 𝘵)  \n",
    "⟹ `g(u, p, t` = σᵗ\n",
    "\"\"\""
   ]
  }
 ],
 "metadata": {
  "kernelspec": {
   "display_name": "Julia 1.8.2",
   "language": "julia",
   "name": "julia-1.8"
  },
  "language_info": {
   "file_extension": ".jl",
   "mimetype": "application/julia",
   "name": "julia",
   "version": "1.8.2"
  },
  "orig_nbformat": 4
 },
 "nbformat": 4,
 "nbformat_minor": 2
}
